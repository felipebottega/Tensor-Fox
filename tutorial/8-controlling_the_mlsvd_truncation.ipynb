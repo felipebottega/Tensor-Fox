{
 "cells": [
  {
   "cell_type": "markdown",
   "metadata": {},
   "source": [
    "# Controlling the MLSVD truncation \n",
    "\n",
    "One of the most important things one need to get right is the truncation of the MLSVD. It doesn't matter how optimized are the CPD routines, it will take a long time to finish the computations if the tensor is big and no compression is made. Many other CPD solvers out there skip the compression stage, and this is one of the reasons (but not the only one) why Tensor Fox is faster. In this lesson we will see some tricks to obtain a decent preprocessed tensor in which we will compute its CPD. Let's work again with the swimmer tensor."
   ]
  },
  {
   "cell_type": "code",
   "execution_count": 1,
   "metadata": {},
   "outputs": [],
   "source": [
    "import numpy as np\n",
    "from copy import copy\n",
    "import matplotlib\n",
    "import matplotlib.pyplot as plt\n",
    "import pandas as pd\n",
    "import TensorFox as tfx"
   ]
  },
  {
   "cell_type": "code",
   "execution_count": 2,
   "metadata": {},
   "outputs": [],
   "source": [
    "# Load the tensor T. \n",
    "T = np.load('swimmer.npy')\n",
    "dims = T.shape\n",
    "L = len(T.shape)\n",
    "Tsize = np.linalg.norm(T)"
   ]
  },
  {
   "cell_type": "markdown",
   "metadata": {},
   "source": [
    "Again, we will consider the rank as $R = 50$. As mentioned in lesson 3, the reduced MLSVD of $T$ is given by $T = (U_1, U_2, U_3) \\cdot S$, where $S \\in \\mathbb{R}^{R_1 \\times R_2 \\times R_3}$, $U_1 \\in \\mathbb{R}^{256 \\times R_1}$, $U_2 \\in \\mathbb{R}^{32 \\times R_2}$, $U_3 \\in \\mathbb{R}^{32 \\times R_3}$. The tuple $(R_1, R_2, R_3)$ is the multilinear rank of $T$. When the **cpd** function is called, its first action is to run a MLSVD routine and estimate the values $R_1, R_2, R_3$. Since these values are obtained by approximation, the resulting core tensor $S$ is actually a truncation. Below we run the **cpd** with $T$ to remember this."
   ]
  },
  {
   "cell_type": "code",
   "execution_count": 3,
   "metadata": {
    "scrolled": true
   },
   "outputs": [
    {
     "name": "stdout",
     "output_type": "stream",
     "text": [
      "-----------------------------------------------------------------------------------------------\n",
      "Computing MLSVD\n",
      "    Compressing unfolding mode 1\n",
      "    Compressing unfolding mode 2\n",
      "    Compressing unfolding mode 3\n",
      "    Compression detected\n",
      "    Compressing from (256, 32, 32) to (13, 23, 15)\n",
      "    Compression relative error = 1.187604e-10\n",
      "-----------------------------------------------------------------------------------------------\n",
      "Type of initialization: random\n",
      "    Initial guess relative error = 1.391944e+00\n",
      "-----------------------------------------------------------------------------------------------\n",
      "Computing CPD\n",
      "    Iteration | Rel error |  Step size  | Improvement | norm(grad) | Predicted error | # Inner iterations\n",
      "        1     | 1.28e+00  |  5.34e-02   |  1.28e+00   |  2.33e+03  |    7.33e-03     |        2        \n",
      "        2     | 1.24e+00  |  2.25e-02   |  4.04e-02   |  1.70e+03  |    1.64e-04     |        3        \n",
      "        3     | 1.14e+00  |  6.33e-02   |  9.69e-02   |  1.54e+03  |    3.09e-04     |        3        \n",
      "        4     | 9.03e-01  |  1.74e-01   |  2.36e-01   |  1.53e+03  |    6.66e-05     |        4        \n",
      "        5     | 3.43e-01  |  3.35e-01   |  5.61e-01   |  3.53e+03  |    2.24e-03     |        4        \n",
      "        6     | 2.06e-01  |  1.05e-01   |  1.37e-01   |  3.61e+03  |    4.34e-04     |        3        \n",
      "        7     | 1.57e-01  |  1.29e-01   |  4.82e-02   |  4.28e+02  |    2.06e-03     |        5        \n",
      "        8     | 1.25e-01  |  1.47e-01   |  3.27e-02   |  3.44e+02  |    2.19e-03     |        5        \n",
      "        9     | 9.64e-02  |  2.14e-01   |  2.82e-02   |  3.44e+02  |    2.01e-04     |        7        \n",
      "       10     | 8.88e-02  |  8.96e-02   |  7.62e-03   |  7.79e+01  |    5.29e-04     |        7        \n",
      "       11     | 8.31e-02  |  7.47e-02   |  5.69e-03   |  1.37e+02  |    1.93e-04     |        4        \n",
      "       12     | 7.94e-02  |  5.36e-02   |  3.67e-03   |  2.98e+01  |    5.04e-04     |        8        \n",
      "       13     | 7.17e-02  |  1.45e-01   |  7.75e-03   |  1.32e+02  |    8.10e-05     |        6        \n",
      "       14     | 7.01e-02  |  2.37e-02   |  1.53e-03   |  3.84e+01  |    8.43e-05     |        4        \n",
      "       15     | 6.40e-02  |  1.80e-01   |  6.14e-03   |  5.27e+01  |    3.28e-05     |        9        \n",
      "       16     | 6.14e-02  |  4.39e-02   |  2.64e-03   |  2.55e+01  |    4.67e-05     |        8        \n",
      "       17     | 5.75e-02  |  1.18e-01   |  3.89e-03   |  3.62e+01  |    3.08e-05     |        13       \n",
      "       18     | 5.60e-02  |  4.32e-02   |  1.51e-03   |  3.87e+01  |    2.19e-05     |        9        \n",
      "       19     | 5.48e-02  |  4.66e-02   |  1.20e-03   |  1.79e+01  |    3.16e-05     |        13       \n",
      "       20     | 5.37e-02  |  3.48e-02   |  1.09e-03   |  3.00e+01  |    3.47e-05     |        9        \n",
      "       21     | 5.26e-02  |  3.99e-02   |  1.08e-03   |  3.85e+01  |    3.31e-05     |        6        \n",
      "       22     | 5.18e-02  |  2.24e-02   |  7.83e-04   |  2.98e+01  |    2.62e-05     |        5        \n",
      "       23     | 4.86e-02  |  1.72e-01   |  3.20e-03   |  2.97e+01  |    2.12e-05     |        18       \n",
      "       24     | 4.56e-02  |  4.36e-02   |  3.00e-03   |  4.17e+01  |    9.61e-06     |        15       \n",
      "       25     | 4.47e-02  |  3.56e-02   |  9.24e-04   |  1.21e+01  |    1.27e-05     |        10       \n",
      "       26     | 4.42e-02  |  1.55e-02   |  5.27e-04   |  1.35e+01  |    1.70e-05     |        7        \n",
      "       27     | 4.12e-02  |  1.34e-01   |  2.95e-03   |  1.85e+01  |    9.23e-06     |        12       \n",
      "       28     | 3.84e-02  |  6.84e-02   |  2.81e-03   |  2.44e+01  |    1.22e-05     |        19       \n",
      "       29     | 3.68e-02  |  5.81e-02   |  1.59e-03   |  1.66e+01  |    1.35e-05     |        18       \n",
      "       30     | 3.61e-02  |  1.65e-02   |  6.70e-04   |  2.01e+01  |    6.31e-06     |        6        \n",
      "       31     | 3.57e-02  |  1.60e-02   |  4.15e-04   |  1.09e+01  |    6.73e-06     |        8        \n",
      "       32     | 3.55e-02  |  5.50e-03   |  2.13e-04   |  1.00e+01  |    7.38e-06     |        6        \n",
      "       33     | 3.64e-02  |  1.90e-01   |  8.56e-04   |  2.05e+01  |    3.44e-06     |        22       \n",
      "       34     | 2.98e-02  |  6.12e-02   |  6.53e-03   |  3.51e+01  |    2.63e-06     |        16       \n",
      "       35     | 2.94e-02  |  9.99e-03   |  3.87e-04   |  6.48e+00  |    5.26e-06     |        6        \n",
      "       36     | 2.82e-02  |  1.15e-01   |  1.28e-03   |  1.22e+01  |    3.69e-06     |        21       \n",
      "       37     | 2.61e-02  |  3.55e-02   |  2.08e-03   |  1.83e+01  |    2.99e-06     |        17       \n",
      "       38     | 2.54e-02  |  3.68e-02   |  6.79e-04   |  1.21e+01  |    3.58e-06     |        17       \n",
      "       39     | 2.50e-02  |  1.48e-02   |  3.95e-04   |  8.81e+00  |    1.70e-06     |        11       \n",
      "       40     | 2.46e-02  |  2.86e-02   |  4.46e-04   |  4.53e+00  |    2.40e-06     |        17       \n",
      "       41     | 2.43e-02  |  1.56e-02   |  2.81e-04   |  5.67e+00  |    9.81e-07     |        16       \n",
      "       42     | 2.41e-02  |  8.65e-03   |  1.42e-04   |  4.72e+00  |    2.73e-06     |        11       \n",
      "       43     | 2.40e-02  |  1.77e-02   |  1.91e-04   |  1.06e+01  |    2.93e-06     |        7        \n",
      "       44     | 2.34e-02  |  4.59e-02   |  5.47e-04   |  8.33e+00  |    4.21e-06     |        26       \n",
      "       45     | 2.30e-02  |  1.64e-02   |  4.42e-04   |  8.32e+00  |    5.52e-06     |        9        \n",
      "       46     | 2.25e-02  |  2.81e-02   |  5.03e-04   |  1.23e+01  |    3.39e-06     |        13       \n",
      "       47     | 2.21e-02  |  3.32e-02   |  4.00e-04   |  1.09e+01  |    2.60e-06     |        23       \n",
      "       48     | 2.18e-02  |  1.19e-02   |  2.65e-04   |  1.16e+01  |    8.95e-07     |        7        \n",
      "       49     | 2.16e-02  |  1.75e-02   |  1.59e-04   |  3.12e+00  |    2.29e-06     |        26       \n",
      "       50     | 2.14e-02  |  2.64e-02   |  2.25e-04   |  8.26e+00  |    1.61e-06     |        21       \n",
      "       51     | 2.13e-02  |  1.83e-02   |  1.52e-04   |  7.95e+00  |    6.78e-07     |        25       \n",
      "       52     | 2.12e-02  |  1.27e-02   |  1.15e-04   |  5.14e+00  |    8.75e-07     |        16       \n",
      "       53     | 2.08e-02  |  4.59e-02   |  3.23e-04   |  6.22e+00  |    1.77e-06     |        25       \n",
      "       54     | 2.06e-02  |  1.64e-02   |  2.06e-04   |  9.59e+00  |    6.16e-07     |        12       \n",
      "       55     | 2.05e-02  |  1.65e-02   |  9.20e-05   |  3.47e+00  |    7.09e-07     |        22       \n",
      "       56     | 2.05e-02  |  1.82e-02   |  3.78e-05   |  4.32e+00  |    6.27e-07     |        29       \n",
      "       57     | 2.04e-02  |  1.53e-02   |  1.15e-04   |  3.88e+00  |    4.90e-07     |        19       \n",
      "       58     | 2.03e-02  |  1.23e-02   |  7.08e-05   |  4.10e+00  |    1.93e-07     |        19       \n",
      "       59     | 2.03e-02  |  1.15e-02   |  3.02e-05   |  2.72e+00  |    1.73e-07     |        26       \n",
      "       60     | 2.03e-02  |  1.38e-02   |  2.56e-06   |  2.08e+00  |    2.04e-07     |        16       \n",
      "       61     | 1.99e-02  |  4.07e-02   |  3.43e-04   |  2.08e+00  |    1.11e-06     |        20       \n",
      "       62     | 1.97e-02  |  1.86e-02   |  2.17e-04   |  9.61e+00  |    7.75e-07     |        17       \n",
      "       63     | 1.96e-02  |  1.62e-02   |  1.34e-04   |  5.50e+00  |    6.12e-07     |        29       \n",
      "       64     | 1.94e-02  |  2.43e-02   |  1.42e-04   |  3.60e+00  |    5.95e-07     |        28       \n",
      "       65     | 1.88e-02  |  5.29e-02   |  6.50e-04   |  2.80e+00  |    1.25e-06     |        34       \n",
      "       66     | 1.82e-02  |  3.07e-02   |  6.07e-04   |  1.06e+01  |    7.53e-07     |        39       \n",
      "       67     | 1.79e-02  |  1.33e-02   |  2.41e-04   |  5.50e+00  |    1.42e-06     |        12       \n",
      "       68     | 1.77e-02  |  1.86e-02   |  2.55e-04   |  6.17e+00  |    1.22e-06     |        13       \n",
      "       69     | 1.75e-02  |  1.44e-02   |  1.82e-04   |  6.18e+00  |    7.27e-07     |        17       \n",
      "       70     | 1.65e-02  |  6.96e-02   |  1.03e-03   |  3.50e+00  |    1.20e-06     |        38       \n",
      "       71     | 1.51e-02  |  6.89e-02   |  1.38e-03   |  1.06e+01  |    9.41e-07     |        41       \n",
      "       72     | 1.38e-02  |  2.59e-02   |  1.24e-03   |  2.14e+01  |    4.01e-07     |        24       \n",
      "       73     | 1.37e-02  |  7.45e-03   |  1.56e-04   |  4.20e+00  |    4.65e-07     |        12       \n",
      "       74     | 1.36e-02  |  8.80e-03   |  1.00e-04   |  4.77e+00  |    5.07e-07     |        12       \n",
      "       75     | 1.34e-02  |  1.50e-02   |  1.65e-04   |  3.27e+00  |    8.55e-07     |        20       \n",
      "       76     | 1.41e-02  |  7.20e-02   |  7.12e-04   |  8.06e+00  |    4.42e-07     |        40       \n",
      "       77     | 1.08e-02  |  7.47e-02   |  3.30e-03   |  5.34e+01  |    1.05e-06     |        36       \n",
      "       78     | 8.81e-03  |  2.16e-02   |  2.03e-03   |  1.07e+01  |    5.69e-07     |        20       \n",
      "       79     | 8.55e-03  |  5.68e-03   |  2.57e-04   |  6.89e+00  |    3.74e-07     |        10       \n",
      "       80     | 8.17e-03  |  6.68e-02   |  3.84e-04   |  4.00e+00  |    3.79e-07     |        36       \n",
      "       81     | 6.42e-03  |  3.41e-02   |  1.75e-03   |  7.22e+00  |    1.92e-07     |        38       \n",
      "       82     | 6.14e-03  |  3.13e-03   |  2.80e-04   |  2.90e+00  |    7.73e-08     |        9        \n",
      "       83     | 5.95e-03  |  1.16e-02   |  1.93e-04   |  1.11e+00  |    1.27e-07     |        30       \n",
      "       84     | 6.19e-03  |  5.71e-02   |  2.33e-04   |  2.34e+00  |    2.28e-07     |        54       \n"
     ]
    },
    {
     "name": "stdout",
     "output_type": "stream",
     "text": [
      "       85     | 5.05e-03  |  3.45e-02   |  1.13e-03   |  6.98e+00  |    7.00e-08     |        47       \n",
      "       86     | 4.61e-03  |  2.96e-02   |  4.43e-04   |  2.97e+00  |    5.76e-08     |        51       \n",
      "       87     | 4.29e-03  |  2.12e-02   |  3.18e-04   |  3.19e+00  |    2.20e-08     |        50       \n",
      "       88     | 4.07e-03  |  1.25e-02   |  2.21e-04   |  1.81e+00  |    1.50e-08     |        37       \n",
      "       89     | 3.98e-03  |  6.11e-03   |  9.32e-05   |  1.38e+00  |    1.30e-08     |        23       \n",
      "       90     | 3.93e-03  |  6.87e-03   |  5.01e-05   |  5.59e-01  |    2.10e-08     |        27       \n",
      "       91     | 1.09e-02  |  1.06e-01   |  7.02e-03   |  7.10e-01  |    6.71e-08     |        54       \n",
      "       92     | 3.53e-03  |  9.30e-03   |  7.42e-03   |  4.03e+01  |    1.60e-07     |        8        \n",
      "       93     | 3.06e-03  |  9.74e-03   |  4.70e-04   |  1.18e+00  |    2.22e-08     |        37       \n",
      "       94     | 2.95e-03  |  7.71e-03   |  1.08e-04   |  9.22e-01  |    2.08e-08     |        45       \n",
      "       95     | 2.90e-03  |  3.80e-03   |  5.31e-05   |  1.53e+00  |    5.80e-09     |        39       \n",
      "       96     | 3.68e-03  |  4.38e-02   |  7.81e-04   |  4.26e-01  |    3.02e-08     |        60       \n",
      "       97     | 2.51e-03  |  1.08e-02   |  1.17e-03   |  1.09e+01  |    1.10e-08     |        52       \n",
      "       98     | 2.39e-03  |  7.22e-03   |  1.18e-04   |  9.36e-01  |    6.35e-09     |        51       \n",
      "       99     | 2.36e-03  |  8.51e-04   |  2.95e-05   |  6.54e-01  |    4.77e-09     |        12       \n",
      "       100    | 2.32e-03  |  1.16e-02   |  3.82e-05   |  4.68e-01  |    2.23e-08     |        64       \n",
      "       101    | 2.25e-03  |  1.32e-03   |  7.14e-05   |  1.26e+00  |    4.92e-09     |        16       \n",
      "       102    | 2.22e-03  |  3.96e-03   |  3.45e-05   |  5.19e-01  |    3.37e-09     |        49       \n",
      "       103    | 2.21e-03  |  5.68e-04   |  1.07e-05   |  3.80e-01  |    1.42e-09     |        12       \n",
      "       104    | 2.18e-03  |  5.59e-03   |  2.51e-05   |  1.23e-01  |    3.29e-09     |        49       \n",
      "       105    | 2.15e-03  |  2.28e-03   |  3.52e-05   |  4.30e-01  |    3.39e-09     |        20       \n",
      "       106    | 2.20e-03  |  2.03e-02   |  5.11e-05   |  3.22e-01  |    1.84e-08     |        52       \n",
      "       107    | 1.96e-03  |  1.33e-02   |  2.43e-04   |  1.99e+00  |    1.06e-08     |        64       \n",
      "       108    | 1.84e-03  |  1.63e-03   |  1.15e-04   |  1.64e+00  |    3.60e-09     |        19       \n",
      "       109    | 1.83e-03  |  7.03e-04   |  9.95e-06   |  4.32e-01  |    1.75e-09     |        20       \n",
      "       110    | 1.82e-03  |  8.73e-04   |  6.66e-06   |  3.19e-01  |    2.14e-09     |        19       \n",
      "       111    | 1.85e-03  |  1.45e-02   |  3.08e-05   |  2.40e-01  |    1.13e-08     |        55       \n",
      "       112    | 1.69e-03  |  3.32e-03   |  1.61e-04   |  1.43e+00  |    1.27e-09     |        29       \n",
      "       113    | 1.68e-03  |  5.50e-04   |  1.05e-05   |  4.08e-01  |    5.88e-10     |        18       \n",
      "       114    | 1.68e-03  |  1.52e-04   |  1.37e-06   |  1.67e-01  |    4.33e-10     |        9        \n",
      "       115    | 2.38e-03  |  3.61e-02   |  7.01e-04   |  1.02e-01  |    1.22e-08     |        63       \n",
      "       116    | 1.47e-03  |  1.86e-03   |  9.12e-04   |  6.35e+00  |    5.63e-09     |        13       \n",
      "       117    | 1.41e-03  |  4.01e-03   |  6.07e-05   |  5.78e-01  |    9.65e-10     |        59       \n",
      "       118    | 1.39e-03  |  1.91e-03   |  2.42e-05   |  5.26e-01  |    7.27e-10     |        36       \n",
      "       119    | 1.38e-03  |  4.05e-04   |  6.50e-06   |  2.60e-01  |    3.78e-10     |        14       \n",
      "       120    | 1.37e-03  |  1.90e-03   |  6.07e-06   |  9.89e-02  |    9.26e-10     |        51       \n",
      "       121    | 1.36e-03  |  7.80e-04   |  9.70e-06   |  2.69e-01  |    2.31e-10     |        22       \n",
      "       122    | 1.40e-03  |  9.62e-03   |  3.29e-05   |  8.20e-02  |    6.76e-09     |        47       \n",
      "       123    | 1.30e-03  |  1.13e-03   |  9.97e-05   |  1.60e+00  |    5.98e-10     |        20       \n",
      "       124    | 1.29e-03  |  1.16e-03   |  7.40e-06   |  1.31e-01  |    3.13e-10     |        38       \n",
      "       125    | 1.28e-03  |  1.02e-03   |  6.04e-06   |  1.47e-01  |    4.17e-10     |        37       \n",
      "       126    | 1.30e-03  |  7.85e-03   |  1.80e-05   |  1.51e-01  |    4.56e-09     |        56       \n",
      "       127    | 1.23e-03  |  1.63e-03   |  7.64e-05   |  1.50e+00  |    3.11e-10     |        56       \n",
      "       128    | 2.29e-03  |  3.52e-02   |  1.07e-03   |  2.09e-01  |    5.02e-09     |        79       \n",
      "       129    | 1.04e-03  |  2.59e-03   |  1.25e-03   |  9.93e+00  |    1.67e-09     |        34       \n",
      "       130    | 1.02e-03  |  1.04e-03   |  1.95e-05   |  3.64e-01  |    8.43e-10     |        31       \n",
      "       131    | 1.01e-03  |  6.62e-04   |  6.93e-06   |  2.14e-01  |    3.17e-10     |        37       \n",
      "       132    | 1.01e-03  |  3.89e-04   |  3.52e-06   |  1.22e-01  |    1.24e-10     |        28       \n",
      "       133    | 1.02e-03  |  3.92e-03   |  7.22e-06   |  4.84e-02  |    9.62e-11     |        56       \n",
      "       134    | 1.01e-03  |  6.18e-03   |  5.98e-06   |  7.02e-01  |    9.42e-10     |        82       \n",
      "       135    | 9.58e-04  |  2.42e-03   |  5.12e-05   |  1.51e+00  |    2.53e-10     |        67       \n",
      "       136    | 9.49e-04  |  1.63e-04   |  9.17e-06   |  3.65e-01  |    9.10e-11     |        10       \n",
      "       137    | 9.47e-04  |  3.55e-04   |  1.58e-06   |  3.11e-02  |    6.25e-11     |        23       \n",
      "       138    | 9.46e-04  |  1.87e-03   |  1.60e-06   |  6.12e-02  |    5.74e-10     |        46       \n",
      "       139    | 9.38e-04  |  3.09e-04   |  7.86e-06   |  5.58e-01  |    1.44e-10     |        16       \n",
      "       140    | 9.36e-04  |  3.61e-04   |  1.65e-06   |  6.77e-02  |    8.50e-11     |        29       \n",
      "       141    | 9.35e-04  |  2.14e-04   |  1.11e-06   |  7.89e-02  |    6.21e-11     |        21       \n",
      "       142    | 1.20e-03  |  1.53e-02   |  2.62e-04   |  5.05e-02  |    1.87e-09     |        74       \n",
      "       143    | 8.65e-04  |  2.44e-03   |  3.32e-04   |  4.44e+00  |    1.21e-10     |        74       \n",
      "       144    | 8.52e-04  |  5.31e-04   |  1.30e-05   |  4.74e-01  |    7.68e-11     |        31       \n",
      "       145    | 8.52e-04  |  2.05e-03   |  1.61e-07   |  8.44e-02  |    4.65e-10     |        43       \n",
      "===============================================================================================\n",
      "Final results\n",
      "    Number of steps = 145\n",
      "    Relative error = 0.0008519284570194871\n",
      "    Accuracy =  99.91481 %\n"
     ]
    }
   ],
   "source": [
    "# Compute the CPD of T, assuming T has rank 50. \n",
    "class options:\n",
    "    display = 3\n",
    "    \n",
    "R = 50\n",
    "factors, output = tfx.cpd(T, R, options)"
   ]
  },
  {
   "cell_type": "markdown",
   "metadata": {},
   "source": [
    "What we know for sure is that $R_1 \\leq \\min\\{ R, m \\}$, $R_2 \\leq \\min\\{ R, n \\}$, $R_3 \\leq \\min\\{ R, p \\}$, where $m, n, p$ are the dimensions of $T$. This is valid in general for order-$L$ tensors, i.e., $R_\\ell \\leq \\min\\{ R, I_\\ell \\}$ for all $\\ell = 1 \\ldots L$. For example, in the case of the swimmer tensor this tuple is $(50, 32, 32)$, but we just saw that the tuple $(13, 23, 15)$ is already very good (with error of order $10^{-10}$). "
   ]
  },
  {
   "cell_type": "markdown",
   "metadata": {},
   "source": [
    "# Truncation testing \n",
    "\n",
    "In more difficult situations one may be interested in testing a list of several possible truncations and choose one of them. This can be accomplished with the function **test_truncation**. Below we show an example of usage with the swimmer tensor. Remember that an upper bound for the multilinear rank in this case is $(32, 32, 50)$. \n",
    "\n",
    "**PS:** The ordering of the dimensions are different here. The **cpd** function sorts the dimension of $T$ in descending order, so the original tensor with shape $32 \\times 32 \\times 256$ is rearranged to have shape $256 \\times 32 \\times 32$. The truncation testing doesn't change the dimension ordering, so the optimal truncation $(13, 23, 15)$ mentioned before is for the sorted $T$. In this context the optimal truncation now is $(23, 15, 13)$. "
   ]
  },
  {
   "cell_type": "code",
   "execution_count": 4,
   "metadata": {
    "scrolled": true
   },
   "outputs": [
    {
     "name": "stdout",
     "output_type": "stream",
     "text": [
      "Number of truncations to be tested: 108\n",
      "Recommended truncation = (23, 22, 33)     Relative error = 1.4059644185480688e-15 \n",
      "\n"
     ]
    },
    {
     "data": {
      "image/png": "[encoded data removed]",
      "text/plain": [
       "<Figure size 1152x288 with 1 Axes>"
      ]
     },
     "metadata": {
      "needs_background": "light"
     },
     "output_type": "display_data"
    }
   ],
   "source": [
    "# List random of truncations in ascending order.\n",
    "N = 1000\n",
    "Ri_max_list = [min(R, dim) for dim in dims]\n",
    "Ri_list = [np.sort(np.random.randint(1, Ri_max+1, size=N)) for Ri_max in Ri_max_list]\n",
    "trunc_list = [[Ri[i] for Ri in Ri_list] for i in range(N)]\n",
    "\n",
    "# Remove duplicates from the list.\n",
    "trunc_list = [x for n, x in enumerate(trunc_list) if x not in trunc_list[:n]]    \n",
    "N = len(trunc_list)\n",
    "print('Number of truncations to be tested:', N)\n",
    "\n",
    "# Start the tests.\n",
    "trunc_error = tfx.test_truncation(T, trunc_list, display=False)\n",
    "\n",
    "# Now we plot the evolution of the energy and the corresponding errors.\n",
    "trunc_str = [str(trunc_list[i]) for i in range(N)]\n",
    "\n",
    "df = pd.DataFrame(index=[str(tuple(trunc_list[i])) for i in range(N)], data=trunc_error, columns=['Error'])\n",
    "\n",
    "# Print the first truncation with error than 1e-13.\n",
    "for idx in df.index:\n",
    "    if df.loc[idx, 'Error'] < 1e-13:\n",
    "        print('Recommended truncation =', idx, '    Relative error =', df.loc[idx, 'Error'], '\\n')\n",
    "        break\n",
    "\n",
    "df.plot(figsize=[16, 4], grid=True, legend=[])\n",
    "plt.ylabel('Relative Error')\n",
    "plt.xlabel('Truncation')\n",
    "plt.yscale('log')\n",
    "plt.show()"
   ]
  },
  {
   "cell_type": "markdown",
   "metadata": {},
   "source": [
    "It may be not obvious but the reason for the big fall in the error comes from the first dimension, when it changes from $22$ to $23$. Below we make another test to verify this. Also, note that the second dimension doesn't need to be bigger than $21$ and the third dimension doesn't need to be bigger than $30$."
   ]
  },
  {
   "cell_type": "code",
   "execution_count": 5,
   "metadata": {},
   "outputs": [
    {
     "name": "stdout",
     "output_type": "stream",
     "text": [
      "Number of truncations to be tested: 50\n",
      "Recommended truncation = (23, 15, 19)     Relative error = 7.689585770720048e-16 \n",
      "\n"
     ]
    },
    {
     "data": {
      "image/png": "[encoded data removed]",
      "text/plain": [
       "<Figure size 1152x288 with 1 Axes>"
      ]
     },
     "metadata": {
      "needs_background": "light"
     },
     "output_type": "display_data"
    }
   ],
   "source": [
    "# List random of truncations in ascending order.\n",
    "N = 1000\n",
    "Ri_list = [N * [23], \n",
    "           np.sort(np.random.randint(1, 21+1, size=N)),\n",
    "           np.sort(np.random.randint(1, 30+1, size=N))]\n",
    "trunc_list = [[Ri[i] for Ri in Ri_list] for i in range(N)]\n",
    "\n",
    "# Remove duplicates from the list.\n",
    "trunc_list = [x for n, x in enumerate(trunc_list) if x not in trunc_list[:n]]    \n",
    "N = len(trunc_list)\n",
    "print('Number of truncations to be tested:', N)\n",
    "\n",
    "# Start the tests.\n",
    "trunc_error = tfx.test_truncation(T, trunc_list, display=False)\n",
    "\n",
    "# Now we plot the evolution of the energy and the corresponding errors.\n",
    "trunc_str = [str(trunc_list[i]) for i in range(N)]\n",
    "\n",
    "df = pd.DataFrame(index=[str(tuple(trunc_list[i])) for i in range(N)], data=trunc_error, columns=['Error'])\n",
    "\n",
    "# Print the first truncation with error than 1e-13.\n",
    "for idx in df.index:\n",
    "    if df.loc[idx, 'Error'] < 1e-13:\n",
    "        print('Recommended truncation =', idx, '    Relative error =', df.loc[idx, 'Error'], '\\n')\n",
    "        break\n",
    "\n",
    "df.plot(figsize=[16, 4], grid=True, legend=[])\n",
    "plt.ylabel('Relative Error')\n",
    "plt.xlabel('Truncation')\n",
    "plt.yscale('log')\n",
    "plt.show()"
   ]
  },
  {
   "cell_type": "markdown",
   "metadata": {},
   "source": [
    "In this test we found the truncation $(23, 15, 21)$, which is close enough to the optimal $(23, 15, 13)$ found by Tensor Fox methods. "
   ]
  },
  {
   "cell_type": "markdown",
   "metadata": {},
   "source": [
    "# Why do we need to do this if Tensor Fox is better?\n",
    "\n",
    "Actually, the original purpose function **test_truncation** is not to find the optimal truncation, but to understand how the error changes as the truncation changes. In general the error behaves as the example above, i.e., it doesn't change gradually but abruptly. \n",
    "\n",
    "Also it is important to remark that Tensor Fox works with approximations, therefore the truncation given by Tensor Fox may not be always the optimal one. In this case it would be interesting for the user to use this truncation as starting point to test closer truncations. Sometimes they can find a smaller truncation with the same relative error. For this particular example this is not (you are invited to check this by yourself)."
   ]
  },
  {
   "cell_type": "markdown",
   "metadata": {},
   "source": [
    "# Using the compressed tensor instead of the original one\n",
    "\n",
    "Just a quick recap: \n",
    " - We have our original raw tensor $T$, which is big and probably can be compressed.\n",
    " - $T = (U_1, \\ldots, U_L) \\cdot S$, where $S$ is the *core* tensor of the MLSVD of $T$. It is the compressed version of $T$.\n",
    " - All the talk above about truncation was about $S$, not $T$, I hope you realized this at this point.\n",
    " - The dimensions of $S$ are $(R_1, \\ldots, R_L)$ and they satisfy $R_\\ell \\leq \\min\\{I_\\ell, R\\}$, where $I_\\ell$ is the $\\ell$-th dimension of $T$ and $R$ is the rank of $T$.\n",
    " - The CPD will be computed for $S$, because its cheaper to compute this CPD and onde we have this CPD, the CPD of $T$ is obtained easily. \n",
    " - When we call the function **cpd** with Tensor Fox, it will compute the compression $S$ and the CPD of $S$. \n",
    " \n",
    "Assume that the compression computed is precise enough. Still we can have bad luck when computing the CPD, that is, the program may generate a bad starting point that will converge to a local minimum or the randomized steps may lead the program to a path leading to a local minimum. In any case the solution won't be close enough and we will have to run the **cpd** function again. Maybe the second time will be better (and probably will if the problem is not ill-posed). Regardless, we are computing the compression twice, once per **cpd** call. If the tensor is very large, we don't want to repeat this step several times.\n",
    "\n",
    "**The solution is**: we compute the compression and compute its CPD by ourselves."
   ]
  },
  {
   "cell_type": "code",
   "execution_count": 6,
   "metadata": {},
   "outputs": [],
   "source": [
    "class options:    # start creating an empty class\n",
    "    pass\n",
    "options = tfx.make_options(options)    # update the class\n",
    "options.tol_mlsvd = 1e-16    # do not use a value <= 0 to compute the compression directly\n",
    "\n",
    "S, U, T1, sigmas = tfx.mlsvd(T, Tsize, R, options)    # only S and U matters for us"
   ]
  },
  {
   "cell_type": "code",
   "execution_count": 7,
   "metadata": {},
   "outputs": [
    {
     "name": "stdout",
     "output_type": "stream",
     "text": [
      "-----------------------------------------------------------------------------------------------\n",
      "Computing MLSVD\n",
      "    No compression and no truncation requested by user\n",
      "    Working with dimensions (23, 15, 13)\n",
      "-----------------------------------------------------------------------------------------------\n",
      "Type of initialization: random\n",
      "-----------------------------------------------------------------------------------------------\n",
      "Computing CPD\n",
      "===============================================================================================\n",
      "Final results\n",
      "    Number of steps = 165\n",
      "    Relative error = 0.0014447859579135647\n",
      "    Accuracy =  99.85552 %\n"
     ]
    }
   ],
   "source": [
    "# Now we compute the CPD of S.\n",
    "options.tol_mlsvd = -1    # this options makes the program to skip the compression step, which is unnecessary now\n",
    "options.display = 1 \n",
    "factors, output = tfx.cpd(S, R, options)"
   ]
  },
  {
   "cell_type": "code",
   "execution_count": 8,
   "metadata": {},
   "outputs": [],
   "source": [
    "# We have that T = (U1, U2, U3)*S = (U1, U2, U3)*(W1, W2, W3)*I = (U1*W1, U2*W2, U3*W3)*I, where W1, W2, W3 are the\n",
    "# factor matrices of S. Therefore U1*W1, U2*W2, U3*W3 atr the factor matrices of T.\n",
    "factors = [np.dot(u, w) for u, w in zip(U, factors)]"
   ]
  },
  {
   "cell_type": "code",
   "execution_count": 9,
   "metadata": {},
   "outputs": [
    {
     "name": "stdout",
     "output_type": "stream",
     "text": [
      "Rel error = 0.001444785954938044\n"
     ]
    }
   ],
   "source": [
    "# This is step you should avoid in general, but we can check the solution by computing the difference\n",
    "# T - (U1, U2, U3)*S.\n",
    "T_approx = tfx.cpd2tens(factors)\n",
    "print('Rel error =', np.linalg.norm(T - T_approx)/np.linalg.norm(T))"
   ]
  },
  {
   "cell_type": "markdown",
   "metadata": {},
   "source": [
    "Since the compression error is close to $10^{-10}$, we can see the the major part of the error comes from the CPD of $S$. That is why it is interesting to save the compression to work with. If there is a way to improve the CPD it will be through the CPD of $S$, and since this tensor is much smaller than the original one, we can make several experimentations in a short time. To illustrate let's try to improve the previous result by testing some combination of parameters."
   ]
  },
  {
   "cell_type": "code",
   "execution_count": 10,
   "metadata": {},
   "outputs": [
    {
     "name": "stdout",
     "output_type": "stream",
     "text": [
      "cg_factor = 1 cg_tol = 1e-16 cg_maxiter = 10 rel_error = 0.011715099849467897\n",
      "cg_factor = 1 cg_tol = 1e-16 cg_maxiter = 50 rel_error = 0.0013325189587664577\n",
      "cg_factor = 1 cg_tol = 1e-16 cg_maxiter = 100 rel_error = 0.011678870882522454\n",
      "cg_factor = 1 cg_tol = 1e-32 cg_maxiter = 10 rel_error = 0.0002041152280758261\n",
      "cg_factor = 1 cg_tol = 1e-32 cg_maxiter = 50 rel_error = 0.002181007932958783\n",
      "cg_factor = 1 cg_tol = 1e-32 cg_maxiter = 100 rel_error = 0.0007402910375417965\n",
      "cg_factor = 2 cg_tol = 1e-16 cg_maxiter = 10 rel_error = 0.000928027022470611\n",
      "cg_factor = 2 cg_tol = 1e-16 cg_maxiter = 50 rel_error = 0.00037762422087317084\n",
      "cg_factor = 2 cg_tol = 1e-16 cg_maxiter = 100 rel_error = 0.01952994840776996\n",
      "cg_factor = 2 cg_tol = 1e-32 cg_maxiter = 10 rel_error = 0.00029211847814420377\n",
      "cg_factor = 2 cg_tol = 1e-32 cg_maxiter = 50 rel_error = 0.00030808044436665737\n",
      "cg_factor = 2 cg_tol = 1e-32 cg_maxiter = 100 rel_error = 0.011463989252699178\n",
      "cg_factor = 5 cg_tol = 1e-16 cg_maxiter = 10 rel_error = 0.00029162592816350276\n",
      "cg_factor = 5 cg_tol = 1e-16 cg_maxiter = 50 rel_error = 0.0003446994910443754\n",
      "cg_factor = 5 cg_tol = 1e-16 cg_maxiter = 100 rel_error = 0.0002908552523371249\n",
      "cg_factor = 5 cg_tol = 1e-32 cg_maxiter = 10 rel_error = 0.00017424105924726083\n",
      "cg_factor = 5 cg_tol = 1e-32 cg_maxiter = 50 rel_error = 0.00011228173040037724\n",
      "cg_factor = 5 cg_tol = 1e-32 cg_maxiter = 100 rel_error = 0.0012071541171270743\n",
      "cg_factor = 10 cg_tol = 1e-16 cg_maxiter = 10 rel_error = 9.915033331246035e-05\n",
      "cg_factor = 10 cg_tol = 1e-16 cg_maxiter = 50 rel_error = 0.0003490911361639236\n",
      "cg_factor = 10 cg_tol = 1e-16 cg_maxiter = 100 rel_error = 0.0007134751873599223\n",
      "cg_factor = 10 cg_tol = 1e-32 cg_maxiter = 10 rel_error = 0.011583779509689026\n",
      "cg_factor = 10 cg_tol = 1e-32 cg_maxiter = 50 rel_error = 0.00031208529966363877\n",
      "cg_factor = 10 cg_tol = 1e-32 cg_maxiter = 100 rel_error = 0.000657535521414844\n",
      "Best model: cg_factor = 10 cg_tol = 1e-16 cg_maxiter = 10\n",
      "Final best rel_error = 9.915033331246035e-05\n"
     ]
    }
   ],
   "source": [
    "best_error = np.inf\n",
    "\n",
    "for cg_factor in [1, 2, 5, 10]:\n",
    "    for cg_tol in [1e-16, 1e-32]:\n",
    "        for cg_maxiter in [10, 50, 100]:\n",
    "            options.tol_mlsvd = -1 \n",
    "            options.display = 0\n",
    "            options.cg_factor = cg_factor\n",
    "            options.cg_tol = cg_tol\n",
    "            options.cg_maxiter = cg_maxiter\n",
    "            factors, output = tfx.cpd(S, R, options)\n",
    "            print('cg_factor =', cg_factor, 'cg_tol =', cg_tol, 'cg_maxiter =', cg_maxiter, 'rel_error =', output.rel_error)\n",
    "            \n",
    "            if output.rel_error < best_error:\n",
    "                best_error = output.rel_error\n",
    "                best_factors = [np.dot(u, w) for u, w in zip(U, factors)]\n",
    "                best_output = copy(output)\n",
    "    \n",
    "output = best_output\n",
    "factors = best_factors\n",
    "print('Best model: cg_factor =', output.options.cg_factor, 'cg_tol =', output.options.cg_tol, 'cg_maxiter =', output.options.cg_maxiter)\n",
    "print('Final best rel_error =', output.rel_error)"
   ]
  },
  {
   "cell_type": "markdown",
   "metadata": {},
   "source": [
    "There are several ways of doing this and there are many more possibilities. I think you got the idea at this point, this is the important part."
   ]
  }
 ],
 "metadata": {
  "kernelspec": {
   "display_name": "Python 3 (ipykernel)",
   "language": "python",
   "name": "python3"
  },
  "language_info": {
   "codemirror_mode": {
    "name": "ipython",
    "version": 3
   },
   "file_extension": ".py",
   "mimetype": "text/x-python",
   "name": "python",
   "nbconvert_exporter": "python",
   "pygments_lexer": "ipython3",
   "version": "3.10.0"
  }
 },
 "nbformat": 4,
 "nbformat_minor": 2
}
