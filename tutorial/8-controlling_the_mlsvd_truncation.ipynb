{
 "cells": [
  {
   "cell_type": "markdown",
   "metadata": {},
   "source": [
    "# Controlling the MLSVD truncation \n",
    "\n",
    "One of the most important things one need to get right is the truncation of the MLSVD. It doesn't matter how optimized are the CPD routines, it will take a long time to finish the computations if the tensor is big and no compression is made. Many other CPD solvers out there skip the compression stage, and this is one of the reasons (but not the only one) why Tensor Fox is faster. In this lesson we will see some tricks to obtain a decent preprocessed tensor in which we will compute its CPD. Let's work again with the swimmer tensor."
   ]
  },
  {
   "cell_type": "code",
   "execution_count": 1,
   "metadata": {},
   "outputs": [],
   "source": [
    "import numpy as np\n",
    "from copy import copy\n",
    "import matplotlib\n",
    "import matplotlib.pyplot as plt\n",
    "import pandas as pd\n",
    "import TensorFox as tfx"
   ]
  },
  {
   "cell_type": "code",
   "execution_count": 2,
   "metadata": {},
   "outputs": [],
   "source": [
    "# Load the tensor T. \n",
    "T = np.load('swimmer.npy')\n",
    "dims = T.shape\n",
    "L = len(T.shape)\n",
    "Tsize = np.linalg.norm(T)"
   ]
  },
  {
   "cell_type": "markdown",
   "metadata": {},
   "source": [
    "Again, we will consider the rank as $R = 50$. As mentioned in lesson 3, the reduced MLSVD of $T$ is given by $T = (U_1, U_2, U_3) \\cdot S$, where $S \\in \\mathbb{R}^{R_1 \\times R_2 \\times R_3}$, $U_1 \\in \\mathbb{R}^{256 \\times R_1}$, $U_2 \\in \\mathbb{R}^{32 \\times R_2}$, $U_3 \\in \\mathbb{R}^{32 \\times R_3}$. The tuple $(R_1, R_2, R_3)$ is the multilinear rank of $T$. When the **cpd** function is called, its first action is to run a MLSVD routine and estimate the values $R_1, R_2, R_3$. Since these values are obtained by approximation, the resulting core tensor $S$ is actually a truncation. Below we run the **cpd** with $T$ to remember this."
   ]
  },
  {
   "cell_type": "code",
   "execution_count": 3,
   "metadata": {
    "scrolled": true
   },
   "outputs": [
    {
     "name": "stderr",
     "output_type": "stream",
     "text": [
      "-> With display > 2 Tensor Fox will compute the error of the MLSVD. For large tensors this routine is very clostly.\n"
     ]
    },
    {
     "name": "stdout",
     "output_type": "stream",
     "text": [
      "-----------------------------------------------------------------------------------------------\n",
      "Computing MLSVD\n",
      "    Compressing unfolding mode 1\n",
      "    Compressing unfolding mode 2\n",
      "    Compressing unfolding mode 3\n",
      "    Compression detected\n",
      "    Compressing from (256, 32, 32) to (13, 23, 15)\n",
      "    Compression relative error = 1.459281e-10\n",
      "-----------------------------------------------------------------------------------------------\n",
      "Type of initialization: random\n",
      "    Initial guess relative error = 1.341551e+00\n",
      "-----------------------------------------------------------------------------------------------\n",
      "Computing CPD\n",
      "    Iteration | Rel error |  Step size  | Improvement | norm(grad) | Predicted error | # Inner iterations\n",
      "        1     | 1.25e+00  |  4.73e-02   |  1.25e+00   |  2.17e+03  |    5.07e-03     |        2        \n",
      "        2     | 1.21e+00  |  1.97e-02   |  3.45e-02   |  1.66e+03  |    1.01e-04     |        3        \n",
      "        3     | 1.12e+00  |  5.68e-02   |  8.98e-02   |  1.51e+03  |    1.61e-04     |        3        \n",
      "        4     | 8.52e-01  |  1.65e-01   |  2.69e-01   |  1.82e+03  |    2.91e-04     |        3        \n",
      "        5     | 3.34e-01  |  3.03e-01   |  5.19e-01   |  3.42e+03  |    3.68e-03     |        4        \n",
      "        6     | 1.96e-01  |  1.15e-01   |  1.38e-01   |  2.85e+03  |    8.58e-05     |        6        \n",
      "        7     | 1.54e-01  |  1.32e-01   |  4.21e-02   |  2.36e+02  |    4.31e-03     |        6        \n",
      "        8     | 1.20e-01  |  1.74e-01   |  3.37e-02   |  3.09e+02  |    1.46e-03     |        5        \n",
      "        9     | 1.00e-01  |  1.77e-01   |  1.96e-02   |  1.57e+02  |    5.24e-04     |        8        \n",
      "       10     | 9.20e-02  |  9.92e-02   |  8.26e-03   |  5.97e+01  |    1.73e-03     |        8        \n",
      "       11     | 8.38e-02  |  1.05e-01   |  8.24e-03   |  1.60e+02  |    7.32e-04     |        4        \n",
      "       12     | 7.73e-02  |  9.05e-02   |  6.48e-03   |  1.03e+02  |    8.96e-04     |        6        \n",
      "       13     | 6.99e-02  |  1.45e-01   |  7.38e-03   |  1.11e+02  |    1.65e-04     |        7        \n",
      "       14     | 6.68e-02  |  7.25e-02   |  3.11e-03   |  3.56e+01  |    1.24e-04     |        12       \n",
      "       15     | 6.50e-02  |  4.70e-02   |  1.77e-03   |  2.76e+01  |    1.30e-04     |        8        \n",
      "       16     | 6.09e-02  |  1.30e-01   |  4.11e-03   |  3.51e+01  |    1.04e-04     |        13       \n",
      "       17     | 5.90e-02  |  5.11e-02   |  1.92e-03   |  2.35e+01  |    2.89e-05     |        13       \n",
      "       18     | 5.86e-02  |  9.84e-03   |  4.71e-04   |  8.63e+00  |    2.60e-05     |        7        \n",
      "       19     | 5.82e-02  |  9.08e-03   |  3.48e-04   |  7.43e+00  |    3.38e-05     |        14       \n",
      "       20     | 5.43e-02  |  1.26e-01   |  3.86e-03   |  1.80e+01  |    3.08e-05     |        12       \n",
      "       21     | 5.28e-02  |  3.51e-02   |  1.53e-03   |  2.43e+01  |    6.16e-05     |        13       \n",
      "       22     | 4.87e-02  |  1.35e-01   |  4.10e-03   |  3.28e+01  |    3.70e-05     |        13       \n",
      "       23     | 4.73e-02  |  2.99e-02   |  1.45e-03   |  2.31e+01  |    2.31e-05     |        10       \n",
      "       24     | 4.59e-02  |  4.86e-02   |  1.34e-03   |  1.52e+01  |    8.49e-05     |        13       \n",
      "       25     | 4.27e-02  |  1.25e-01   |  3.21e-03   |  3.74e+01  |    1.93e-05     |        15       \n",
      "       26     | 4.16e-02  |  2.20e-02   |  1.11e-03   |  1.30e+01  |    3.48e-05     |        9        \n",
      "       27     | 3.97e-02  |  7.13e-02   |  1.90e-03   |  1.42e+01  |    2.84e-05     |        14       \n",
      "       28     | 3.87e-02  |  3.62e-02   |  9.78e-04   |  1.93e+01  |    1.91e-05     |        11       \n",
      "       29     | 3.81e-02  |  2.79e-02   |  5.96e-04   |  1.46e+01  |    1.39e-05     |        11       \n",
      "       30     | 3.72e-02  |  4.50e-02   |  9.41e-04   |  1.09e+01  |    1.72e-05     |        22       \n",
      "       31     | 3.55e-02  |  7.85e-02   |  1.72e-03   |  5.32e+00  |    1.35e-05     |        23       \n",
      "       32     | 3.47e-02  |  1.91e-02   |  7.33e-04   |  1.33e+01  |    3.08e-05     |        8        \n",
      "       33     | 3.28e-02  |  1.48e-01   |  1.95e-03   |  1.95e+01  |    1.04e-05     |        23       \n",
      "       34     | 3.09e-02  |  2.34e-02   |  1.91e-03   |  1.63e+01  |    1.05e-05     |        13       \n",
      "       35     | 2.94e-02  |  1.00e-01   |  1.50e-03   |  1.21e+01  |    7.37e-06     |        24       \n",
      "       36     | 2.81e-02  |  3.01e-02   |  1.26e-03   |  8.40e+00  |    5.19e-06     |        20       \n",
      "       37     | 2.77e-02  |  1.92e-02   |  3.96e-04   |  5.73e+00  |    5.58e-06     |        15       \n",
      "       38     | 2.72e-02  |  2.22e-02   |  4.68e-04   |  5.64e+00  |    1.33e-05     |        16       \n",
      "       39     | 2.66e-02  |  3.17e-02   |  6.11e-04   |  1.75e+01  |    1.69e-05     |        11       \n",
      "       40     | 2.61e-02  |  2.14e-02   |  5.76e-04   |  1.85e+01  |    3.38e-06     |        12       \n",
      "       41     | 2.51e-02  |  4.61e-02   |  9.25e-04   |  4.84e+00  |    1.01e-05     |        24       \n",
      "       42     | 2.43e-02  |  3.15e-02   |  8.26e-04   |  4.66e+00  |    8.18e-06     |        18       \n",
      "       43     | 2.30e-02  |  5.97e-02   |  1.27e-03   |  9.29e+00  |    1.06e-05     |        29       \n",
      "       44     | 2.20e-02  |  3.59e-02   |  9.87e-04   |  1.26e+01  |    3.67e-06     |        29       \n",
      "       45     | 2.15e-02  |  2.46e-02   |  5.53e-04   |  4.76e+00  |    4.18e-06     |        30       \n",
      "       46     | 2.11e-02  |  2.02e-02   |  4.02e-04   |  6.47e+00  |    3.88e-06     |        18       \n",
      "       47     | 2.07e-02  |  1.95e-02   |  3.65e-04   |  7.51e+00  |    5.20e-06     |        17       \n",
      "       48     | 2.05e-02  |  9.61e-03   |  2.54e-04   |  9.02e+00  |    3.64e-06     |        7        \n",
      "       49     | 1.91e-02  |  6.92e-02   |  1.36e-03   |  8.90e+00  |    6.05e-06     |        16       \n",
      "       50     | 1.86e-02  |  5.80e-03   |  5.00e-04   |  4.10e+00  |    4.50e-06     |        6        \n",
      "       51     | 1.84e-02  |  7.99e-03   |  2.43e-04   |  6.43e+00  |    8.55e-07     |        6        \n",
      "       52     | 1.77e-02  |  2.80e-02   |  6.34e-04   |  1.58e+00  |    8.27e-06     |        25       \n",
      "       53     | 1.73e-02  |  1.19e-02   |  4.19e-04   |  1.18e+01  |    4.41e-06     |        11       \n",
      "       54     | 1.68e-02  |  2.08e-02   |  4.89e-04   |  9.49e+00  |    7.07e-06     |        11       \n",
      "       55     | 1.65e-02  |  1.00e-02   |  3.65e-04   |  1.13e+01  |    1.04e-06     |        11       \n",
      "       56     | 1.55e-02  |  4.99e-02   |  9.86e-04   |  1.84e+00  |    2.57e-06     |        30       \n",
      "       57     | 1.51e-02  |  6.94e-03   |  3.45e-04   |  7.30e+00  |    2.01e-06     |        12       \n",
      "       58     | 1.45e-02  |  4.08e-02   |  5.92e-04   |  6.02e+00  |    3.44e-06     |        21       \n",
      "       59     | 1.41e-02  |  1.81e-02   |  4.30e-04   |  8.64e+00  |    6.67e-07     |        32       \n",
      "       60     | 1.37e-02  |  4.22e-02   |  3.99e-04   |  2.42e+00  |    1.28e-06     |        31       \n",
      "       61     | 1.34e-02  |  1.10e-02   |  3.53e-04   |  2.98e+00  |    3.68e-07     |        16       \n",
      "       62     | 1.30e-02  |  2.75e-02   |  3.11e-04   |  2.02e+00  |    1.20e-06     |        42       \n",
      "       63     | 1.29e-02  |  2.54e-03   |  1.12e-04   |  4.12e+00  |    1.02e-06     |        9        \n",
      "       64     | 1.24e-02  |  3.87e-02   |  4.85e-04   |  4.45e+00  |    1.07e-06     |        29       \n",
      "       65     | 1.60e-02  |  7.18e-02   |  3.57e-03   |  1.06e+01  |    1.74e-06     |        38       \n",
      "       66     | 8.61e-03  |  4.83e-02   |  7.41e-03   |  1.00e+02  |    1.15e-06     |        43       \n",
      "       67     | 6.16e-03  |  4.42e-02   |  2.45e-03   |  4.46e+01  |    8.22e-07     |        39       \n",
      "       68     | 4.83e-03  |  6.86e-03   |  1.33e-03   |  2.30e+01  |    2.56e-07     |        15       \n",
      "       69     | 4.49e-03  |  1.58e-02   |  3.43e-04   |  2.31e+00  |    1.66e-07     |        37       \n",
      "       70     | 4.07e-03  |  2.67e-02   |  4.13e-04   |  1.57e+00  |    3.49e-07     |        39       \n",
      "       71     | 3.65e-03  |  1.20e-02   |  4.21e-04   |  4.93e+00  |    1.05e-07     |        47       \n",
      "       72     | 3.50e-03  |  8.26e-03   |  1.51e-04   |  1.71e+00  |    8.25e-08     |        38       \n",
      "       73     | 3.37e-03  |  8.47e-03   |  1.31e-04   |  1.20e+00  |    1.16e-07     |        40       \n",
      "       74     | 3.29e-03  |  3.49e-03   |  8.18e-05   |  1.77e+00  |    3.96e-08     |        21       \n",
      "       75     | 3.27e-03  |  9.82e-04   |  2.25e-05   |  5.06e-01  |    1.58e-08     |        13       \n",
      "       76     | 4.39e-03  |  6.75e-02   |  1.12e-03   |  5.94e-01  |    1.29e-07     |        40       \n",
      "       77     | 2.20e-03  |  8.18e-03   |  2.19e-03   |  8.07e+00  |    2.41e-08     |        32       \n",
      "       78     | 2.14e-03  |  3.01e-03   |  6.49e-05   |  8.46e-01  |    1.63e-08     |        33       \n",
      "       79     | 2.06e-03  |  7.73e-03   |  8.10e-05   |  3.37e-01  |    4.10e-08     |        42       \n",
      "       80     | 2.00e-03  |  1.88e-03   |  6.05e-05   |  1.42e+00  |    8.14e-09     |        27       \n"
     ]
    },
    {
     "name": "stdout",
     "output_type": "stream",
     "text": [
      "       81     | 1.95e-03  |  6.03e-03   |  4.47e-05   |  5.18e-01  |    5.21e-08     |        27       \n",
      "       82     | 1.89e-03  |  2.35e-03   |  5.63e-05   |  7.20e-01  |    6.81e-09     |        46       \n",
      "       83     | 1.88e-03  |  1.21e-03   |  1.56e-05   |  3.13e-01  |    3.39e-09     |        24       \n",
      "       84     | 1.83e-03  |  6.97e-03   |  4.59e-05   |  1.74e-01  |    4.34e-08     |        39       \n",
      "       85     | 1.78e-03  |  1.86e-02   |  5.69e-05   |  4.49e-01  |    7.49e-08     |        55       \n",
      "       86     | 1.56e-03  |  2.35e-03   |  2.19e-04   |  1.22e+00  |    2.78e-09     |        30       \n",
      "       87     | 1.54e-03  |  2.57e-03   |  2.19e-05   |  1.21e-01  |    5.14e-09     |        39       \n",
      "       88     | 1.51e-03  |  2.13e-03   |  2.26e-05   |  1.62e-01  |    4.88e-09     |        39       \n",
      "       89     | 1.50e-03  |  1.46e-03   |  1.57e-05   |  2.07e-01  |    3.23e-09     |        39       \n",
      "       90     | 1.49e-03  |  7.99e-04   |  7.73e-06   |  3.47e-01  |    2.95e-09     |        16       \n",
      "       91     | 1.48e-03  |  1.43e-02   |  9.49e-06   |  2.50e-01  |    4.44e-08     |        44       \n",
      "       92     | 1.33e-03  |  1.97e-03   |  1.48e-04   |  7.60e-01  |    5.55e-10     |        30       \n",
      "       93     | 1.32e-03  |  1.07e-03   |  7.20e-06   |  1.13e-01  |    2.56e-09     |        22       \n",
      "       94     | 1.32e-03  |  4.83e-04   |  5.77e-06   |  1.65e-01  |    5.44e-10     |        25       \n",
      "       95     | 1.32e-03  |  4.00e-04   |  2.64e-06   |  5.57e-02  |    6.91e-10     |        13       \n",
      "       96     | 1.31e-03  |  1.65e-04   |  1.54e-06   |  6.67e-02  |    5.04e-10     |        10       \n",
      "       97     | 1.80e-03  |  3.31e-02   |  4.84e-04   |  4.70e-02  |    5.79e-08     |        22       \n",
      "       98     | 1.04e-03  |  2.07e-03   |  7.55e-04   |  2.58e+00  |    2.77e-09     |        23       \n",
      "       99     | 1.03e-03  |  6.38e-04   |  9.67e-06   |  3.56e-01  |    1.34e-09     |        23       \n",
      "       100    | 1.03e-03  |  3.66e-04   |  3.57e-06   |  1.48e-01  |    5.48e-10     |        23       \n",
      "       101    | 1.02e-03  |  1.30e-03   |  6.50e-06   |  3.72e-02  |    1.56e-09     |        27       \n",
      "       102    | 1.05e-03  |  1.08e-02   |  2.49e-05   |  7.68e-02  |    6.27e-09     |        51       \n",
      "       103    | 9.46e-04  |  1.54e-03   |  1.01e-04   |  5.46e-01  |    7.84e-10     |        29       \n",
      "       104    | 9.40e-04  |  8.27e-04   |  6.63e-06   |  8.34e-02  |    6.28e-10     |        25       \n",
      "       105    | 9.44e-04  |  7.46e-03   |  4.64e-06   |  4.46e-02  |    2.18e-09     |        47       \n",
      "       106    | 8.94e-04  |  1.17e-03   |  5.06e-05   |  3.82e-01  |    5.08e-10     |        27       \n",
      "       107    | 8.91e-04  |  2.41e-04   |  2.81e-06   |  6.53e-02  |    3.02e-10     |        10       \n",
      "       108    | 8.82e-04  |  3.67e-03   |  9.13e-06   |  4.26e-02  |    3.93e-10     |        60       \n",
      "       109    | 8.71e-04  |  2.14e-04   |  1.02e-05   |  1.89e-01  |    2.81e-10     |        11       \n",
      "       110    | 8.63e-04  |  3.42e-03   |  8.93e-06   |  4.50e-02  |    5.36e-10     |        57       \n",
      "       111    | 8.45e-04  |  2.29e-03   |  1.71e-05   |  1.68e-01  |    3.53e-10     |        48       \n",
      "       112    | 8.40e-04  |  4.90e-03   |  5.61e-06   |  1.30e-01  |    1.04e-09     |        64       \n",
      "       113    | 8.15e-04  |  6.21e-04   |  2.47e-05   |  2.43e-01  |    5.32e-10     |        19       \n",
      "       114    | 8.14e-04  |  1.31e-04   |  1.58e-06   |  4.97e-02  |    2.57e-10     |        12       \n",
      "       115    | 8.07e-04  |  1.44e-03   |  6.33e-06   |  7.07e-02  |    3.93e-10     |        41       \n",
      "       116    | 8.05e-04  |  2.18e-04   |  2.52e-06   |  9.70e-02  |    1.66e-10     |        20       \n",
      "       117    | 8.01e-04  |  3.07e-03   |  3.70e-06   |  3.18e-02  |    6.23e-10     |        41       \n",
      "       118    | 7.84e-04  |  1.64e-03   |  1.66e-05   |  1.50e-01  |    2.57e-10     |        53       \n",
      "       119    | 7.78e-04  |  1.39e-03   |  6.05e-06   |  1.08e-01  |    3.04e-10     |        36       \n",
      "       120    | 7.72e-04  |  1.50e-03   |  6.58e-06   |  8.03e-02  |    3.05e-10     |        56       \n",
      "       121    | 7.67e-04  |  7.62e-04   |  5.29e-06   |  8.85e-02  |    2.01e-10     |        31       \n",
      "       122    | 7.63e-04  |  9.43e-04   |  3.37e-06   |  5.82e-02  |    5.72e-10     |        37       \n",
      "       123    | 7.60e-04  |  4.30e-04   |  3.46e-06   |  7.63e-02  |    8.98e-11     |        43       \n",
      "       124    | 1.07e-03  |  2.03e-02   |  3.15e-04   |  2.56e-02  |    4.92e-09     |        57       \n",
      "       125    | 6.56e-04  |  1.94e-03   |  4.18e-04   |  1.29e+00  |    8.43e-11     |        57       \n",
      "       126    | 6.53e-04  |  1.24e-04   |  3.13e-06   |  9.92e-02  |    5.64e-11     |        20       \n",
      "       127    | 6.54e-04  |  3.47e-03   |  6.96e-07   |  3.81e-02  |    1.21e-09     |        64       \n",
      "===============================================================================================\n",
      "Final results\n",
      "    Number of steps = 127\n",
      "    Relative error = 0.0006529150573275845\n",
      "    Accuracy =  99.93471 %\n"
     ]
    }
   ],
   "source": [
    "# Compute the CPD of T, assuming T has rank 50. \n",
    "class options:\n",
    "    display = 3\n",
    "    \n",
    "R = 50\n",
    "factors, output = tfx.cpd(T, R, options)"
   ]
  },
  {
   "cell_type": "markdown",
   "metadata": {},
   "source": [
    "What we know for sure is that $R_1 \\leq \\min\\{ R, m \\}$, $R_2 \\leq \\min\\{ R, n \\}$, $R_3 \\leq \\min\\{ R, p \\}$, where $m, n, p$ are the dimensions of $T$. This is valid in general for order-$L$ tensors, i.e., $R_\\ell \\leq \\min\\{ R, I_\\ell \\}$ for all $\\ell = 1 \\ldots L$. For example, in the case of the swimmer tensor this tuple is $(50, 32, 32)$, but we just saw that the tuple $(13, 23, 15)$ is already very good (with error of order $10^{-10}$). "
   ]
  },
  {
   "cell_type": "markdown",
   "metadata": {},
   "source": [
    "# Truncation testing \n",
    "\n",
    "In more difficult situations one may be interested in testing a list of several possible truncations and choose one of them. This can be accomplished with the function **test_truncation**. Below we will show an example with the swimmer tensor. \n",
    "\n",
    "**PS:** The ordering of the dimensions are different here. The **cpd** function sorts the dimension of $T$ in descending order, so the original tensor with shape $32 \\times 32 \\times 256$ is rearranged to have shape $256 \\times 32 \\times 32$. The truncation testing doesn't change the dimension ordering, so the optimal truncation $(13, 23, 15)$ mentioned before is for the sorted $T$. In this context the optimal truncation now is $(23, 15, 13)$. "
   ]
  },
  {
   "cell_type": "code",
   "execution_count": 4,
   "metadata": {
    "scrolled": true
   },
   "outputs": [
    {
     "name": "stdout",
     "output_type": "stream",
     "text": [
      "Recommended truncation = (23, 15, 13)     Relative error = 1.0097645776857521e-15 \n",
      "\n"
     ]
    },
    {
     "data": {
      "image/png": "[encoded data removed]",
      "text/plain": [
       "<Figure size 1152x288 with 1 Axes>"
      ]
     },
     "metadata": {
      "needs_background": "light"
     },
     "output_type": "display_data"
    }
   ],
   "source": [
    "# List a few truncations (a, b, c) wherea a <= 32, b <= 32 and c <= 50. \n",
    "trunc_list = [(2, 3, 5), (5, 5, 10), (10, 10, 10), (22, 14, 12), (23, 14, 13), (23, 15, 13), (30, 30, 30), (32, 32, 50)]\n",
    "\n",
    "# Start the tests.\n",
    "trunc_error = tfx.test_truncation(T, trunc_list, display=False)\n",
    "\n",
    "# Now we plot the evolution of the energy and the corresponding errors.\n",
    "df = pd.DataFrame(index= [str(x) for x in trunc_list], data=trunc_error, columns=['Error'])\n",
    "\n",
    "# Print the first truncation with error than 1e-13.\n",
    "for idx in df.index:\n",
    "    if df.loc[idx, 'Error'] < 1e-13:\n",
    "        print('Recommended truncation =', idx, '    Relative error =', df.loc[idx, 'Error'], '\\n')\n",
    "        break\n",
    "\n",
    "df.plot(figsize=[16, 4], grid=True, legend=[], marker='s')\n",
    "plt.ylabel('Relative Error')\n",
    "plt.xlabel('Truncation')\n",
    "plt.yscale('log')\n",
    "plt.show()"
   ]
  },
  {
   "cell_type": "markdown",
   "metadata": {},
   "source": [
    "# Why do we need to do this if Tensor Fox is better?\n",
    "\n",
    "Actually, the original purpose function **test_truncation** wasn't to find the optimal truncation, but to understand how the error changes as the truncation changes. In general the error behaves as the example above, i.e., it doesn't change gradually but abruptly. \n",
    "\n",
    "Also it is important to remark that Tensor Fox works with approximations (like any solver), therefore the truncation given by Tensor Fox may not be always the optimal one. In that case it would be interesting for the user to use this truncation as starting point to test closer truncations. Sometimes they can find a smaller truncation with the same relative error. That wasn't the case for this particular example because Tensor Fox did found the optimal truncation."
   ]
  },
  {
   "cell_type": "markdown",
   "metadata": {},
   "source": [
    "# Using the compressed tensor instead of the original one\n",
    "\n",
    "Just a quick recap: \n",
    " - We have our original raw tensor $T$, which is big and probably can be compressed.\n",
    " - $T = (U_1, \\ldots, U_L) \\cdot S$, where $S$ is the *core* tensor of the MLSVD of $T$. It is the compressed version of $T$.\n",
    " - All the talk above about truncation was about $S$, not $T$, you probably understand this at this point.\n",
    " - The dimensions of $S$ are $(R_1, \\ldots, R_L)$ and they satisfy $R_\\ell \\leq \\min\\{I_\\ell, R\\}$, where $I_\\ell$ is the $\\ell$-th dimension of $T$ and $R$ is the rank of $T$.\n",
    " - The CPD will be computed for $S$, because its cheaper to compute this CPD and once we have this CPD, the CPD of $T$ is easily obtained. \n",
    " - When we call the function **cpd** with Tensor Fox, it computes the compression $S$ and then the CPD of $S$. \n",
    " \n",
    "Assume that the compression computed is precise enough. Still we can have bad luck when computing the CPD, that is, the program may converge to a local minimum. The solution won't be close enough and we will have to run the **cpd** all over again. Maybe the second time it is better (and probably will be if the problem is not ill-posed). Regardless, we are computing the compression twice, once per **cpd** call. If the tensor is very large, we don't want to repeat this step several times.\n",
    "\n",
    "**The solution is**: We compute compression by ourselves and store it, then we can compute its CPD several times."
   ]
  },
  {
   "cell_type": "code",
   "execution_count": 5,
   "metadata": {},
   "outputs": [],
   "source": [
    "# Start creating the class of options.\n",
    "class options:    \n",
    "    # Define the error tolerance but do not use a value <= 0 to compute the compression directly like we are doing now.\n",
    "    tol_mlsvd = 1e-16    \n",
    "    \n",
    "# Call the MLSVD function. Only S and U matters for us.\n",
    "S, U, T1, sigmas = tfx.mlsvd(T, Tsize, R, options)    "
   ]
  },
  {
   "cell_type": "code",
   "execution_count": 6,
   "metadata": {},
   "outputs": [
    {
     "name": "stdout",
     "output_type": "stream",
     "text": [
      "-----------------------------------------------------------------------------------------------\n",
      "Computing MLSVD\n",
      "    No compression and no truncation requested by user\n",
      "    Working with dimensions (23, 15, 13)\n",
      "-----------------------------------------------------------------------------------------------\n",
      "Type of initialization: random\n",
      "-----------------------------------------------------------------------------------------------\n",
      "Computing CPD\n",
      "===============================================================================================\n",
      "Final results\n",
      "    Number of steps = 136\n",
      "    Relative error = 0.0009060851789082211\n",
      "    Accuracy =  99.90939 %\n"
     ]
    }
   ],
   "source": [
    "# Now we compute the CPD of S.\n",
    "options.tol_mlsvd = -1    # this options makes the program to skip the compression step, which is unnecessary now\n",
    "options.display = 1 \n",
    "factors, output = tfx.cpd(S, R, options)"
   ]
  },
  {
   "cell_type": "code",
   "execution_count": 7,
   "metadata": {},
   "outputs": [],
   "source": [
    "# We have that T = (U1, U2, U3)*S = (U1, U2, U3)*(W1, W2, W3)*I = (U1*W1, U2*W2, U3*W3)*I, where W1, W2, W3 are the\n",
    "# factor matrices of S. Therefore U1*W1, U2*W2, U3*W3 are the factor matrices of T, se we redefine them.\n",
    "factors = [np.dot(u, w) for u, w in zip(U, factors)]"
   ]
  },
  {
   "cell_type": "code",
   "execution_count": 8,
   "metadata": {},
   "outputs": [
    {
     "name": "stdout",
     "output_type": "stream",
     "text": [
      "Rel error = 0.0009060851816266081\n"
     ]
    }
   ],
   "source": [
    "# This step you can skip, but we can check the solution by computing the difference between T and its approximation.\n",
    "T_approx = tfx.cpd2tens(factors)\n",
    "print('Rel error =', np.linalg.norm(T - T_approx)/np.linalg.norm(T))"
   ]
  },
  {
   "cell_type": "markdown",
   "metadata": {},
   "source": [
    "Since the compression error is close to $10^{-10}$, we can see the the major part of the error comes from the CPD of $S$. That is why it is interesting to save the compression to work with. If there is a way to improve the CPD it will be through the CPD of $S$, and since this tensor is much smaller than the original one, we can make several experimentations within a reasonable time. To illustrate let's try to improve the previous result by testing some combination of parameters."
   ]
  },
  {
   "cell_type": "code",
   "execution_count": 9,
   "metadata": {},
   "outputs": [
    {
     "name": "stdout",
     "output_type": "stream",
     "text": [
      "cg_factor = 1 cg_tol = 1e-16 cg_maxiter = 10 rel_error = 0.000885356184740611\n",
      "cg_factor = 1 cg_tol = 1e-16 cg_maxiter = 50 rel_error = 0.0009057293015406809\n",
      "cg_factor = 1 cg_tol = 1e-16 cg_maxiter = 100 rel_error = 0.0003955359646412877\n",
      "cg_factor = 1 cg_tol = 1e-32 cg_maxiter = 10 rel_error = 0.002590809595424418\n",
      "cg_factor = 1 cg_tol = 1e-32 cg_maxiter = 50 rel_error = 0.0005355422495779255\n",
      "cg_factor = 1 cg_tol = 1e-32 cg_maxiter = 100 rel_error = 0.0014526032146188585\n",
      "cg_factor = 2 cg_tol = 1e-16 cg_maxiter = 10 rel_error = 0.00029568937368274633\n",
      "cg_factor = 2 cg_tol = 1e-16 cg_maxiter = 50 rel_error = 0.00032737122943516105\n",
      "cg_factor = 2 cg_tol = 1e-16 cg_maxiter = 100 rel_error = 0.0018736910229589859\n",
      "cg_factor = 2 cg_tol = 1e-32 cg_maxiter = 10 rel_error = 0.0009657722050728615\n",
      "cg_factor = 2 cg_tol = 1e-32 cg_maxiter = 50 rel_error = 0.0004036259576516109\n",
      "cg_factor = 2 cg_tol = 1e-32 cg_maxiter = 100 rel_error = 0.0009114227995968617\n",
      "cg_factor = 5 cg_tol = 1e-16 cg_maxiter = 10 rel_error = 0.00031336409213726814\n",
      "cg_factor = 5 cg_tol = 1e-16 cg_maxiter = 50 rel_error = 0.004478897828711603\n",
      "cg_factor = 5 cg_tol = 1e-16 cg_maxiter = 100 rel_error = 0.0004842032892729577\n",
      "cg_factor = 5 cg_tol = 1e-32 cg_maxiter = 10 rel_error = 0.0006447192020486519\n",
      "cg_factor = 5 cg_tol = 1e-32 cg_maxiter = 50 rel_error = 0.00037433163011747436\n",
      "cg_factor = 5 cg_tol = 1e-32 cg_maxiter = 100 rel_error = 0.0008941732872243573\n",
      "cg_factor = 10 cg_tol = 1e-16 cg_maxiter = 10 rel_error = 0.01139437321195756\n",
      "cg_factor = 10 cg_tol = 1e-16 cg_maxiter = 50 rel_error = 0.0004995678876912198\n",
      "cg_factor = 10 cg_tol = 1e-16 cg_maxiter = 100 rel_error = 5.0792302491170266e-05\n",
      "cg_factor = 10 cg_tol = 1e-32 cg_maxiter = 10 rel_error = 0.00026061116975572847\n",
      "cg_factor = 10 cg_tol = 1e-32 cg_maxiter = 50 rel_error = 0.0021201846643137214\n",
      "cg_factor = 10 cg_tol = 1e-32 cg_maxiter = 100 rel_error = 0.00021081432093359158\n",
      "Best model: cg_factor = 10 cg_tol = 1e-16 cg_maxiter = 100\n",
      "Final best rel_error = 5.0792302491170266e-05\n"
     ]
    }
   ],
   "source": [
    "best_error = np.inf\n",
    "\n",
    "for cg_factor in [1, 2, 5, 10]:\n",
    "    for cg_tol in [1e-16, 1e-32]:\n",
    "        for cg_maxiter in [10, 50, 100]:\n",
    "            options.tol_mlsvd = -1 \n",
    "            options.display = 0\n",
    "            options.cg_factor = cg_factor\n",
    "            options.cg_tol = cg_tol\n",
    "            options.cg_maxiter = cg_maxiter\n",
    "            factors, output = tfx.cpd(S, R, options)\n",
    "            print('cg_factor =', cg_factor, 'cg_tol =', cg_tol, 'cg_maxiter =', cg_maxiter, 'rel_error =', output.rel_error)\n",
    "            \n",
    "            if output.rel_error < best_error:\n",
    "                best_error = output.rel_error\n",
    "                best_factors = [np.dot(u, w) for u, w in zip(U, factors)]\n",
    "                best_output = copy(output)\n",
    "    \n",
    "output = best_output\n",
    "factors = best_factors\n",
    "print('Best model: cg_factor =', output.options.cg_factor, 'cg_tol =', output.options.cg_tol, 'cg_maxiter =', output.options.cg_maxiter)\n",
    "print('Final best rel_error =', output.rel_error)"
   ]
  },
  {
   "cell_type": "markdown",
   "metadata": {},
   "source": [
    "There are several ways of doing this and of course there are many more possibilities. I think you got the idea at this point, this is what really matter. "
   ]
  }
 ],
 "metadata": {
  "kernelspec": {
   "display_name": "Python 3 (ipykernel)",
   "language": "python",
   "name": "python3"
  },
  "language_info": {
   "codemirror_mode": {
    "name": "ipython",
    "version": 3
   },
   "file_extension": ".py",
   "mimetype": "text/x-python",
   "name": "python",
   "nbconvert_exporter": "python",
   "pygments_lexer": "ipython3",
   "version": "3.10.4"
  }
 },
 "nbformat": 4,
 "nbformat_minor": 2
}
