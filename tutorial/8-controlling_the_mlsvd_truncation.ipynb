{
 "cells": [
  {
   "cell_type": "markdown",
   "metadata": {},
   "source": [
    "# Controlling the MLSVD truncation \n",
    "\n",
    "One of the most important things one need to get right is the truncation of the MLSVD. It doesn't matter how optimized are the CPD routines, it will take a long time to finish the computations if the tensor is big and no compression is made. Many other CPD solvers out there skip the compression stage, and this is one of the reasons (but not the only one) why Tensor Fox is faster. In this lesson we will see some tricks to obtain a decent preprocessed tensor in which we will compute its CPD. Let's work again with the swimmer tensor."
   ]
  },
  {
   "cell_type": "code",
   "execution_count": 1,
   "metadata": {},
   "outputs": [],
   "source": [
    "import numpy as np\n",
    "from copy import copy\n",
    "import matplotlib\n",
    "import matplotlib.pyplot as plt\n",
    "import pandas as pd\n",
    "import TensorFox as tfx"
   ]
  },
  {
   "cell_type": "code",
   "execution_count": 2,
   "metadata": {},
   "outputs": [],
   "source": [
    "# Load the tensor T. \n",
    "T = np.load('swimmer.npy')\n",
    "dims = T.shape\n",
    "L = len(T.shape)\n",
    "Tsize = np.linalg.norm(T)"
   ]
  },
  {
   "cell_type": "markdown",
   "metadata": {},
   "source": [
    "Again, we will consider the rank as $R = 50$. As mentioned in lesson 3, the reduced MLSVD of $T$ is given by $T = (U_1, U_2, U_3) \\cdot S$, where $S \\in \\mathbb{R}^{R_1 \\times R_2 \\times R_3}$, $U_1 \\in \\mathbb{R}^{256 \\times R_1}$, $U_2 \\in \\mathbb{R}^{32 \\times R_2}$, $U_3 \\in \\mathbb{R}^{32 \\times R_3}$. The tuple $(R_1, R_2, R_3)$ is the multilinear rank of $T$. When the **cpd** function is called, its first action is to run a MLSVD routine and estimate the values $R_1, R_2, R_3$. Since these values are obtained by approximation, the resulting core tensor $S$ is actually a truncation. Below we run the **cpd** with $T$ to remember this."
   ]
  },
  {
   "cell_type": "code",
   "execution_count": 3,
   "metadata": {
    "scrolled": true
   },
   "outputs": [
    {
     "name": "stdout",
     "output_type": "stream",
     "text": [
      "-----------------------------------------------------------------------------------------------\n",
      "Computing MLSVD\n",
      "    Compressing unfolding mode 1\n",
      "    Compressing unfolding mode 2\n",
      "    Compressing unfolding mode 3\n",
      "    Compression detected\n",
      "    Compressing from (256, 32, 32) to (13, 23, 15)\n",
      "    Compression relative error = 1.852584e-10\n",
      "-----------------------------------------------------------------------------------------------\n",
      "Type of initialization: random\n",
      "    Initial guess relative error = 1.350203e+00\n",
      "-----------------------------------------------------------------------------------------------\n",
      "Computing CPD\n",
      "    Iteration | Rel error |  Step size  | Improvement | norm(grad) | Predicted error | # Inner iterations\n",
      "        1     | 1.26e+00  |  4.62e-02   |  1.26e+00   |  2.11e+03  |    4.84e-03     |        2        \n",
      "        2     | 1.22e+00  |  1.91e-02   |  3.38e-02   |  1.58e+03  |    5.34e-05     |        3        \n",
      "        3     | 1.14e+00  |  5.47e-02   |  8.49e-02   |  1.39e+03  |    1.10e-04     |        3        \n",
      "        4     | 9.29e-01  |  1.53e-01   |  2.07e-01   |  1.51e+03  |    5.08e-04     |        3        \n",
      "        5     | 3.20e-01  |  3.45e-01   |  6.10e-01   |  2.50e+03  |    2.42e-04     |        5        \n",
      "        6     | 1.97e-01  |  1.32e-01   |  1.23e-01   |  1.77e+03  |    2.55e-03     |        3        \n",
      "        7     | 1.63e-01  |  9.69e-02   |  3.38e-02   |  1.51e+02  |    4.54e-03     |        5        \n",
      "        8     | 1.12e-01  |  2.43e-01   |  5.06e-02   |  7.57e+01  |    9.63e-04     |        6        \n",
      "        9     | 1.07e-01  |  3.19e-02   |  5.03e-03   |  6.48e+01  |    1.16e-03     |        4        \n",
      "       10     | 1.02e-01  |  5.38e-02   |  5.58e-03   |  2.29e+01  |    1.34e-03     |        5        \n",
      "       11     | 9.03e-02  |  1.40e-01   |  1.12e-02   |  6.64e+01  |    6.47e-04     |        8        \n",
      "       12     | 8.85e-02  |  1.87e-02   |  1.88e-03   |  2.55e+01  |    4.26e-04     |        6        \n",
      "       13     | 8.75e-02  |  1.08e-02   |  9.30e-04   |  2.61e+01  |    3.14e-04     |        5        \n",
      "       14     | 8.61e-02  |  1.76e-02   |  1.40e-03   |  1.46e+01  |    3.35e-04     |        8        \n",
      "       15     | 8.51e-02  |  1.36e-02   |  1.01e-03   |  2.25e+01  |    5.93e-04     |        7        \n",
      "       16     | 7.53e-02  |  2.03e-01   |  9.82e-03   |  4.29e+01  |    6.16e-04     |        12       \n",
      "       17     | 7.12e-02  |  6.06e-02   |  4.13e-03   |  5.09e+01  |    3.57e-04     |        10       \n",
      "       18     | 6.97e-02  |  3.04e-02   |  1.41e-03   |  3.23e+01  |    2.10e-04     |        5        \n",
      "       19     | 6.62e-02  |  8.25e-02   |  3.51e-03   |  1.22e+01  |    1.90e-04     |        9        \n",
      "       20     | 6.50e-02  |  2.16e-02   |  1.20e-03   |  1.33e+01  |    2.89e-04     |        11       \n",
      "       21     | 6.04e-02  |  1.10e-01   |  4.67e-03   |  2.62e+01  |    2.33e-04     |        8        \n",
      "       22     | 5.94e-02  |  2.11e-02   |  9.42e-04   |  3.47e+01  |    1.67e-04     |        5        \n",
      "       23     | 5.55e-02  |  1.08e-01   |  3.96e-03   |  2.41e+01  |    1.30e-04     |        10       \n",
      "       24     | 5.39e-02  |  3.89e-02   |  1.58e-03   |  1.56e+01  |    8.83e-05     |        9        \n",
      "       25     | 5.21e-02  |  5.96e-02   |  1.75e-03   |  1.02e+01  |    2.47e-04     |        16       \n",
      "       26     | 4.86e-02  |  1.22e-01   |  3.52e-03   |  2.17e+01  |    1.13e-04     |        14       \n",
      "       27     | 4.70e-02  |  3.81e-02   |  1.63e-03   |  1.56e+01  |    4.31e-05     |        12       \n",
      "       28     | 4.44e-02  |  1.20e-01   |  2.60e-03   |  9.59e+00  |    3.13e-05     |        18       \n",
      "       29     | 4.36e-02  |  1.20e-02   |  8.10e-04   |  1.01e+01  |    6.03e-05     |        5        \n",
      "       30     | 4.24e-02  |  6.38e-02   |  1.22e-03   |  1.12e+01  |    3.50e-05     |        16       \n",
      "       31     | 4.19e-02  |  1.09e-02   |  4.16e-04   |  7.90e+00  |    3.89e-05     |        7        \n",
      "       32     | 4.07e-02  |  7.74e-02   |  1.22e-03   |  7.96e+00  |    5.71e-05     |        17       \n",
      "       33     | 3.97e-02  |  3.42e-02   |  9.69e-04   |  2.28e+01  |    1.56e-05     |        14       \n",
      "       34     | 3.92e-02  |  3.59e-02   |  5.17e-04   |  3.93e+00  |    2.47e-05     |        16       \n",
      "       35     | 3.85e-02  |  4.07e-02   |  7.09e-04   |  9.45e+00  |    2.20e-05     |        16       \n",
      "       36     | 3.81e-02  |  2.17e-02   |  4.24e-04   |  5.23e+00  |    2.05e-05     |        14       \n",
      "       37     | 3.79e-02  |  1.05e-02   |  1.97e-04   |  9.06e+00  |    8.58e-06     |        8        \n",
      "       38     | 3.73e-02  |  4.47e-02   |  6.33e-04   |  4.49e+00  |    1.02e-04     |        21       \n",
      "       39     | 3.56e-02  |  1.04e-01   |  1.62e-03   |  2.61e+01  |    3.73e-05     |        20       \n",
      "       40     | 3.44e-02  |  3.81e-02   |  1.29e-03   |  9.93e+00  |    1.27e-05     |        16       \n",
      "       41     | 3.40e-02  |  1.85e-02   |  3.49e-04   |  6.40e+00  |    1.12e-05     |        18       \n",
      "       42     | 3.37e-02  |  2.61e-02   |  2.72e-04   |  6.98e+00  |    2.45e-05     |        23       \n",
      "       43     | 3.31e-02  |  4.77e-02   |  6.82e-04   |  9.11e+00  |    1.95e-05     |        29       \n",
      "       44     | 3.26e-02  |  2.67e-02   |  4.22e-04   |  6.10e+00  |    6.03e-06     |        11       \n",
      "       45     | 3.21e-02  |  4.44e-02   |  5.69e-04   |  4.34e+00  |    1.85e-05     |        28       \n",
      "       46     | 3.15e-02  |  3.34e-02   |  5.85e-04   |  9.73e+00  |    1.21e-05     |        26       \n",
      "       47     | 3.12e-02  |  2.35e-02   |  2.36e-04   |  5.37e+00  |    8.89e-06     |        24       \n",
      "       48     | 3.09e-02  |  3.21e-02   |  3.82e-04   |  4.03e+00  |    1.07e-05     |        27       \n",
      "       49     | 3.07e-02  |  1.49e-02   |  2.09e-04   |  3.87e+00  |    4.00e-06     |        10       \n",
      "       50     | 3.00e-02  |  9.32e-02   |  6.02e-04   |  2.02e+00  |    1.25e-05     |        31       \n",
      "       51     | 2.90e-02  |  1.73e-02   |  1.04e-03   |  1.40e+01  |    8.60e-06     |        14       \n",
      "       52     | 2.89e-02  |  5.38e-03   |  1.02e-04   |  7.60e+00  |    2.34e-06     |        6        \n",
      "       53     | 2.88e-02  |  7.26e-03   |  7.93e-05   |  1.92e+00  |    4.41e-06     |        15       \n",
      "       54     | 2.88e-02  |  2.41e-03   |  5.11e-05   |  2.66e+00  |    4.30e-06     |        7        \n",
      "       55     | 2.88e-02  |  1.07e-01   |  6.50e-05   |  5.49e+00  |    5.11e-06     |        21       \n",
      "       56     | 2.71e-02  |  3.11e-02   |  1.77e-03   |  1.80e+01  |    2.72e-06     |        22       \n",
      "       57     | 2.69e-02  |  1.40e-02   |  1.48e-04   |  2.03e+00  |    1.86e-06     |        15       \n",
      "       58     | 2.69e-02  |  1.25e-02   |  6.99e-05   |  1.94e+00  |    2.92e-06     |        23       \n",
      "       59     | 2.68e-02  |  9.69e-03   |  5.12e-05   |  4.08e+00  |    1.56e-06     |        14       \n",
      "       60     | 2.68e-02  |  8.79e-03   |  3.92e-05   |  2.32e+00  |    7.77e-07     |        21       \n",
      "       61     | 2.67e-02  |  2.00e-03   |  3.04e-05   |  1.46e+00  |    9.71e-07     |        7        \n",
      "       62     | 2.67e-02  |  5.62e-03   |  1.98e-05   |  1.13e+00  |    6.53e-07     |        19       \n",
      "       63     | 2.67e-02  |  1.18e-03   |  1.44e-05   |  1.66e+00  |    1.28e-06     |        7        \n",
      "       64     | 2.66e-02  |  3.11e-02   |  1.04e-04   |  2.69e+00  |    5.19e-06     |        12       \n",
      "       65     | 2.64e-02  |  6.20e-02   |  2.24e-04   |  3.42e+00  |    2.22e-06     |        31       \n",
      "       66     | 2.62e-02  |  2.52e-02   |  1.91e-04   |  4.95e+00  |    6.01e-07     |        24       \n",
      "       67     | 2.61e-02  |  1.52e-02   |  1.14e-04   |  5.71e+00  |    1.50e-06     |        8        \n",
      "       68     | 2.60e-02  |  1.95e-02   |  5.06e-05   |  4.23e+00  |    9.87e-07     |        41       \n",
      "       69     | 2.60e-02  |  1.77e-02   |  3.44e-05   |  3.83e+00  |    3.79e-07     |        17       \n",
      "       70     | 2.59e-02  |  1.20e-02   |  6.97e-05   |  3.84e+00  |    7.02e-07     |        11       \n",
      "       71     | 2.59e-02  |  4.75e-03   |  3.58e-05   |  2.62e+00  |    6.14e-07     |        8        \n",
      "       72     | 2.58e-02  |  5.22e-02   |  6.59e-05   |  1.02e+00  |    2.36e-06     |        41       \n",
      "       73     | 2.54e-02  |  3.29e-02   |  3.81e-04   |  4.39e+00  |    1.43e-06     |        30       \n",
      "       74     | 2.50e-02  |  2.58e-02   |  3.89e-04   |  3.31e+00  |    2.10e-06     |        25       \n"
     ]
    },
    {
     "name": "stdout",
     "output_type": "stream",
     "text": [
      "       75     | 2.45e-02  |  4.22e-02   |  5.16e-04   |  2.12e+00  |    4.44e-06     |        35       \n",
      "       76     | 2.39e-02  |  4.36e-02   |  6.44e-04   |  5.67e+00  |    4.17e-06     |        29       \n",
      "       77     | 2.35e-02  |  3.30e-02   |  3.88e-04   |  6.02e+00  |    2.09e-06     |        50       \n",
      "       78     | 2.32e-02  |  2.08e-02   |  2.50e-04   |  5.03e+00  |    1.51e-06     |        23       \n",
      "       79     | 2.32e-02  |  5.47e-03   |  8.28e-05   |  2.46e+00  |    1.77e-06     |        13       \n",
      "       80     | 2.31e-02  |  2.43e-03   |  2.69e-05   |  1.90e+00  |    5.40e-07     |        7        \n",
      "       81     | 2.30e-02  |  1.86e-02   |  9.51e-05   |  1.37e+00  |    1.59e-06     |        33       \n",
      "       82     | 2.29e-02  |  3.05e-02   |  9.27e-05   |  2.98e+00  |    1.09e-06     |        51       \n",
      "       83     | 2.29e-02  |  5.18e-03   |  7.98e-05   |  2.50e+00  |    1.55e-06     |        11       \n",
      "       84     | 2.28e-02  |  8.15e-03   |  4.11e-05   |  1.74e+00  |    1.08e-06     |        17       \n",
      "       85     | 2.28e-02  |  5.53e-03   |  2.25e-05   |  1.62e+00  |    3.56e-07     |        18       \n",
      "       86     | 2.28e-02  |  2.12e-03   |  1.12e-05   |  1.06e+00  |    2.18e-07     |        9        \n",
      "       87     | 2.27e-02  |  2.80e-02   |  4.99e-05   |  5.95e-01  |    6.11e-07     |        47       \n",
      "       88     | 2.27e-02  |  3.97e-03   |  5.31e-05   |  2.00e+00  |    4.17e-07     |        12       \n",
      "       89     | 2.27e-02  |  4.05e-03   |  1.28e-05   |  1.21e+00  |    1.52e-07     |        26       \n",
      "       90     | 2.27e-02  |  6.81e-03   |  1.37e-05   |  6.40e-01  |    3.43e-07     |        36       \n",
      "       91     | 2.26e-02  |  3.72e-02   |  2.91e-05   |  8.47e-01  |    3.47e-07     |        51       \n",
      "       92     | 2.25e-02  |  2.78e-02   |  9.85e-05   |  1.83e+00  |    2.39e-07     |        53       \n",
      "       93     | 2.25e-02  |  1.71e-02   |  6.54e-05   |  3.01e+00  |    1.44e-07     |        53       \n",
      "       94     | 2.24e-02  |  3.49e-03   |  4.05e-05   |  2.80e+00  |    3.85e-07     |        14       \n",
      "       95     | 2.24e-02  |  7.82e-03   |  3.32e-05   |  1.22e+00  |    2.78e-07     |        38       \n",
      "       96     | 2.23e-02  |  1.54e-02   |  7.17e-05   |  1.37e+00  |    3.08e-07     |        62       \n",
      "       97     | 2.22e-02  |  1.42e-02   |  8.25e-05   |  1.54e+00  |    3.66e-07     |        25       \n",
      "       98     | 2.19e-02  |  3.53e-02   |  2.93e-04   |  2.26e+00  |    7.98e-07     |        52       \n",
      "       99     | 2.13e-02  |  4.96e-02   |  6.35e-04   |  2.36e+00  |    1.62e-06     |        41       \n",
      "       100    | 2.03e-02  |  8.64e-02   |  1.06e-03   |  6.36e+00  |    1.47e-06     |        64       \n",
      "       101    | 1.90e-02  |  2.18e-02   |  1.30e-03   |  8.40e+00  |    1.38e-06     |        16       \n",
      "       102    | 1.86e-02  |  3.49e-02   |  3.91e-04   |  2.14e+00  |    2.41e-06     |        47       \n",
      "       103    | 1.83e-02  |  2.11e-02   |  2.63e-04   |  4.20e+00  |    1.39e-06     |        53       \n",
      "       104    | 1.82e-02  |  1.40e-02   |  1.39e-04   |  1.83e+00  |    4.14e-07     |        28       \n",
      "       105    | 1.83e-02  |  7.15e-02   |  1.05e-04   |  2.05e+00  |    1.43e-06     |        43       \n",
      "       106    | 1.76e-02  |  9.50e-03   |  6.59e-04   |  7.66e+00  |    5.38e-07     |        15       \n",
      "       107    | 1.75e-02  |  6.75e-03   |  5.78e-05   |  1.04e+00  |    3.71e-07     |        21       \n",
      "       108    | 1.77e-02  |  6.22e-02   |  1.19e-04   |  7.21e-01  |    7.03e-07     |        57       \n",
      "       109    | 1.72e-02  |  2.76e-02   |  5.18e-04   |  6.42e+00  |    2.04e-07     |        48       \n",
      "       110    | 1.71e-02  |  4.15e-02   |  5.65e-05   |  1.66e+00  |    5.79e-07     |        69       \n",
      "       111    | 1.69e-02  |  2.98e-02   |  2.18e-04   |  3.94e+00  |    2.67e-07     |        61       \n",
      "       112    | 1.68e-02  |  1.72e-02   |  1.11e-04   |  2.18e+00  |    2.14e-07     |        49       \n",
      "       113    | 1.67e-02  |  1.46e-02   |  5.20e-05   |  1.19e+00  |    1.46e-07     |        60       \n",
      "       114    | 1.67e-02  |  8.08e-03   |  3.85e-05   |  9.23e-01  |    9.15e-08     |        24       \n",
      "       115    | 1.67e-02  |  2.64e-03   |  1.37e-05   |  5.84e-01  |    1.13e-07     |        17       \n",
      "       116    | 1.67e-02  |  9.99e-04   |  4.17e-06   |  5.56e-01  |    3.46e-08     |        14       \n",
      "       117    | 1.67e-02  |  5.68e-04   |  1.31e-06   |  2.93e-01  |    2.45e-08     |        10       \n",
      "       118    | 1.67e-02  |  4.52e-02   |  9.33e-05   |  1.88e-01  |    4.11e-07     |        51       \n",
      "       119    | 1.65e-02  |  9.20e-03   |  2.48e-04   |  5.09e+00  |    8.00e-08     |        25       \n",
      "       120    | 1.65e-02  |  1.27e-03   |  9.50e-06   |  5.28e-01  |    6.99e-08     |        12       \n",
      "       121    | 1.65e-02  |  7.25e-03   |  1.48e-05   |  2.85e-01  |    1.71e-07     |        38       \n",
      "       122    | 1.65e-02  |  4.83e-03   |  1.81e-05   |  6.74e-01  |    5.77e-08     |        26       \n",
      "       123    | 1.64e-02  |  4.08e-03   |  1.07e-05   |  4.82e-01  |    4.90e-08     |        25       \n",
      "       124    | 1.76e-02  |  9.24e-02   |  1.15e-03   |  3.69e-01  |    2.32e-07     |        72       \n",
      "       125    | 1.60e-02  |  2.70e-02   |  1.56e-03   |  1.62e+01  |    1.73e-07     |        78       \n",
      "       126    | 1.58e-02  |  1.84e-02   |  2.21e-04   |  2.75e+00  |    5.05e-07     |        30       \n",
      "       127    | 2.02e-02  |  1.01e-01   |  4.33e-03   |  3.81e+00  |    1.55e-06     |        58       \n",
      "       128    | 1.29e-02  |  3.36e-02   |  7.24e-03   |  3.91e+01  |    8.85e-07     |        45       \n",
      "       129    | 1.27e-02  |  5.05e-02   |  1.66e-04   |  6.52e+00  |    3.11e-07     |        66       \n",
      "       130    | 1.20e-02  |  2.22e-02   |  7.53e-04   |  1.29e+01  |    1.59e-07     |        54       \n",
      "       131    | 1.22e-02  |  4.69e-02   |  1.83e-04   |  2.23e+00  |    1.51e-07     |        77       \n",
      "       132    | 1.17e-02  |  3.41e-03   |  4.37e-04   |  9.44e+00  |    8.50e-08     |        22       \n",
      "       133    | 1.17e-02  |  1.26e-03   |  8.87e-06   |  5.83e-01  |    6.76e-08     |        16       \n",
      "       134    | 1.17e-02  |  1.46e-02   |  2.03e-05   |  6.99e-01  |    5.39e-08     |        71       \n",
      "       135    | 1.17e-02  |  9.59e-03   |  3.85e-05   |  2.13e+00  |    3.08e-08     |        44       \n",
      "       136    | 1.17e-02  |  1.65e-02   |  1.13e-05   |  1.12e+00  |    5.33e-08     |        57       \n",
      "       137    | 1.16e-02  |  1.11e-03   |  3.74e-05   |  1.56e+00  |    2.29e-08     |        11       \n",
      "       138    | 1.16e-02  |  1.51e-03   |  5.49e-06   |  1.94e-01  |    9.51e-08     |        17       \n",
      "       139    | 1.16e-02  |  8.07e-04   |  3.18e-06   |  6.90e-01  |    2.22e-08     |        14       \n",
      "       140    | 1.16e-02  |  7.25e-04   |  1.86e-06   |  2.47e-01  |    2.97e-08     |        25       \n",
      "       141    | 1.16e-02  |  1.76e-02   |  1.20e-05   |  4.36e-01  |    8.40e-08     |        78       \n",
      "       142    | 1.16e-02  |  2.74e-03   |  5.59e-05   |  2.26e+00  |    2.66e-08     |        22       \n",
      "       143    | 1.16e-02  |  2.60e-02   |  7.60e-05   |  3.22e-01  |    8.70e-08     |        86       \n",
      "       144    | 1.15e-02  |  1.08e-02   |  1.30e-04   |  3.15e+00  |    1.47e-08     |        82       \n",
      "       145    | 1.15e-02  |  2.34e-02   |  3.63e-05   |  1.34e+00  |    5.44e-08     |        83       \n",
      "       146    | 1.14e-02  |  9.03e-03   |  9.97e-05   |  2.57e+00  |    2.52e-08     |        47       \n",
      "       147    | 1.14e-02  |  6.85e-03   |  1.71e-05   |  1.28e+00  |    2.41e-08     |        46       \n",
      "       148    | 1.14e-02  |  6.29e-03   |  1.53e-05   |  1.16e+00  |    2.11e-08     |        50       \n",
      "       149    | 1.14e-02  |  2.32e-02   |  2.04e-05   |  1.12e+00  |    4.75e-08     |        81       \n",
      "       150    | 1.13e-02  |  8.10e-03   |  1.29e-04   |  3.09e+00  |    4.84e-08     |        34       \n",
      "       151    | 1.18e-02  |  5.93e-02   |  4.42e-04   |  1.26e+00  |    2.13e-07     |        73       \n",
      "       152    | 1.32e-02  |  7.89e-02   |  1.45e-03   |  1.18e+01  |    9.88e-07     |        74       \n",
      "       153    | 1.15e-02  |  8.61e-02   |  1.73e-03   |  1.98e+01  |    7.60e-07     |        67       \n",
      "       154    | 5.74e-03  |  2.92e-02   |  5.73e-03   |  1.98e+01  |    4.27e-07     |        37       \n",
      "       155    | 1.28e-02  |  9.62e-02   |  7.04e-03   |  7.79e+00  |    2.25e-07     |        87       \n"
     ]
    },
    {
     "name": "stdout",
     "output_type": "stream",
     "text": [
      "       156    | 3.49e-03  |  8.97e-03   |  9.29e-03   |  2.87e+01  |    7.87e-07     |        11       \n",
      "       157    | 3.06e-03  |  5.04e-03   |  4.25e-04   |  1.61e+00  |    1.92e-07     |        20       \n",
      "       158    | 2.80e-03  |  1.27e-02   |  2.60e-04   |  7.36e-01  |    8.99e-08     |        77       \n",
      "       159    | 2.63e-03  |  9.21e-03   |  1.77e-04   |  1.96e+00  |    5.12e-08     |        51       \n",
      "       160    | 2.52e-03  |  2.29e-03   |  1.07e-04   |  1.84e+00  |    3.64e-08     |        19       \n",
      "       161    | 5.32e-03  |  5.62e-02   |  2.80e-03   |  4.97e-01  |    4.49e-08     |        76       \n",
      "       162    | 1.95e-03  |  4.06e-03   |  3.37e-03   |  1.60e+01  |    3.70e-08     |        21       \n",
      "       163    | 1.85e-03  |  7.29e-03   |  9.35e-05   |  8.34e-01  |    1.47e-08     |        56       \n",
      "       164    | 1.77e-03  |  4.47e-03   |  8.79e-05   |  1.27e+00  |    6.89e-09     |        42       \n",
      "       165    | 1.74e-03  |  7.26e-03   |  2.37e-05   |  5.82e-01  |    2.78e-08     |        51       \n",
      "       166    | 1.66e-03  |  3.77e-03   |  8.46e-05   |  1.36e+00  |    5.49e-09     |        54       \n",
      "       167    | 2.74e-03  |  3.25e-02   |  1.09e-03   |  5.99e-01  |    4.01e-08     |        76       \n",
      "       168    | 1.40e-03  |  8.45e-03   |  1.34e-03   |  1.19e+01  |    7.84e-09     |        95       \n",
      "       169    | 1.29e-03  |  3.01e-03   |  1.13e-04   |  2.28e+00  |    2.77e-09     |        57       \n",
      "       170    | 1.28e-03  |  2.14e-04   |  1.42e-05   |  5.73e-01  |    1.23e-09     |        10       \n",
      "       171    | 1.27e-03  |  2.59e-03   |  6.07e-06   |  4.60e-02  |    3.18e-09     |        57       \n",
      "       172    | 2.69e-03  |  3.30e-02   |  1.42e-03   |  6.40e-01  |    2.80e-08     |        90       \n",
      "       173    | 1.07e-03  |  2.21e-03   |  1.62e-03   |  1.28e+01  |    1.27e-08     |        22       \n",
      "       174    | 1.03e-03  |  3.19e-03   |  4.76e-05   |  3.02e-01  |    1.00e-09     |        97       \n",
      "       175    | 1.31e-03  |  1.58e-02   |  2.84e-04   |  5.90e-01  |    1.36e-08     |       104       \n",
      "       176    | 9.36e-04  |  9.60e-04   |  3.74e-04   |  3.94e+00  |    3.85e-09     |        18       \n",
      "       177    | 9.15e-04  |  1.47e-03   |  2.10e-05   |  2.11e-01  |    1.33e-09     |        41       \n",
      "       178    | 9.14e-04  |  4.11e-03   |  1.14e-06   |  2.94e-01  |    1.48e-09     |        72       \n",
      "       179    | 8.83e-04  |  1.25e-03   |  3.07e-05   |  6.84e-01  |    5.85e-10     |        43       \n",
      "       180    | 3.34e-03  |  4.00e-02   |  2.45e-03   |  1.07e-01  |    6.38e-09     |       108       \n",
      "       181    | 7.20e-04  |  4.15e-03   |  2.61e-03   |  1.14e+01  |    1.33e-09     |        87       \n",
      "       182    | 6.75e-04  |  1.21e-03   |  4.55e-05   |  6.31e-01  |    4.41e-10     |        56       \n",
      "       183    | 6.70e-04  |  1.26e-04   |  4.66e-06   |  1.76e-01  |    2.69e-10     |        15       \n",
      "       184    | 6.69e-04  |  1.56e-04   |  9.82e-07   |  3.58e-02  |    4.79e-10     |        17       \n",
      "===============================================================================================\n",
      "Final results\n",
      "    Number of steps = 184\n",
      "    Relative error = 0.0006692420136459386\n",
      "    Accuracy =  99.93308 %\n"
     ]
    }
   ],
   "source": [
    "# Compute the CPD of T, assuming T has rank 50. \n",
    "class options:\n",
    "    display = 3\n",
    "    \n",
    "R = 50\n",
    "factors, output = tfx.cpd(T, R, options)"
   ]
  },
  {
   "cell_type": "markdown",
   "metadata": {},
   "source": [
    "What we know for sure is that $R_1 \\leq \\min\\{ R, m \\}$, $R_2 \\leq \\min\\{ R, n \\}$, $R_3 \\leq \\min\\{ R, p \\}$, where $m, n, p$ are the dimensions of $T$. This is valid in general for order-$L$ tensors, i.e., $R_\\ell \\leq \\min\\{ R, I_\\ell \\}$ for all $\\ell = 1 \\ldots L$. For example, in the case of the swimmer tensor this tuple is $(50, 32, 32)$, but we just saw that the tuple $(13, 23, 15)$ is already very good (with error of order $10^{-10}$). "
   ]
  },
  {
   "cell_type": "markdown",
   "metadata": {},
   "source": [
    "# Truncation testing \n",
    "\n",
    "In more difficult situations one may be interested in testing a list of several possible truncations and choose one of them. This can be accomplished with the function **test_truncation**. Below we will show an example with the swimmer tensor. \n",
    "\n",
    "**PS:** The ordering of the dimensions are different here. The **cpd** function sorts the dimension of $T$ in descending order, so the original tensor with shape $32 \\times 32 \\times 256$ is rearranged to have shape $256 \\times 32 \\times 32$. The truncation testing doesn't change the dimension ordering, so the optimal truncation $(13, 23, 15)$ mentioned before is for the sorted $T$. In this context the optimal truncation now is $(23, 15, 13)$. "
   ]
  },
  {
   "cell_type": "code",
   "execution_count": 4,
   "metadata": {
    "scrolled": true
   },
   "outputs": [
    {
     "name": "stdout",
     "output_type": "stream",
     "text": [
      "Number of truncations to be tested: 101\n",
      "Recommended truncation = (23, 23, 36)     Relative error = 1.854315084344582e-15 \n",
      "\n"
     ]
    },
    {
     "data": {
      "image/png": "[encoded data removed]",
      "text/plain": [
       "<Figure size 1152x288 with 1 Axes>"
      ]
     },
     "metadata": {
      "needs_background": "light"
     },
     "output_type": "display_data"
    }
   ],
   "source": [
    "# List random of truncations in ascending order.\n",
    "N = 1000\n",
    "Ri_max_list = [min(R, dim) for dim in dims]\n",
    "Ri_list = [np.sort(np.random.randint(1, Ri_max+1, size=N)) for Ri_max in Ri_max_list]\n",
    "trunc_list = [[Ri[i] for Ri in Ri_list] for i in range(N)]\n",
    "\n",
    "# Remove duplicates from the list.\n",
    "trunc_list = [x for n, x in enumerate(trunc_list) if x not in trunc_list[:n]]    \n",
    "N = len(trunc_list)\n",
    "print('Number of truncations to be tested:', N)\n",
    "\n",
    "# Start the tests.\n",
    "trunc_error = tfx.test_truncation(T, trunc_list, display=False)\n",
    "\n",
    "# Now we plot the evolution of the energy and the corresponding errors.\n",
    "trunc_str = [str(trunc_list[i]) for i in range(N)]\n",
    "\n",
    "df = pd.DataFrame(index=[str(tuple(trunc_list[i])) for i in range(N)], data=trunc_error, columns=['Error'])\n",
    "\n",
    "# Print the first truncation with error than 1e-13.\n",
    "for idx in df.index:\n",
    "    if df.loc[idx, 'Error'] < 1e-13:\n",
    "        print('Recommended truncation =', idx, '    Relative error =', df.loc[idx, 'Error'], '\\n')\n",
    "        break\n",
    "\n",
    "df.plot(figsize=[16, 4], grid=True, legend=[])\n",
    "plt.ylabel('Relative Error')\n",
    "plt.xlabel('Truncation')\n",
    "plt.yscale('log')\n",
    "plt.show()"
   ]
  },
  {
   "cell_type": "markdown",
   "metadata": {},
   "source": [
    "It may be not obvious but the reason for the big fall in the error comes from the first dimension, when it changes from $22$ to $23$. Below we make another test to verify this. Also, note that the second dimension doesn't need to be bigger than $21$ and the third dimension doesn't need to be bigger than $30$."
   ]
  },
  {
   "cell_type": "code",
   "execution_count": 5,
   "metadata": {},
   "outputs": [
    {
     "name": "stdout",
     "output_type": "stream",
     "text": [
      "Number of truncations to be tested: 50\n",
      "Recommended truncation = (23, 15, 21)     Relative error = 1.9124384549690986e-15 \n",
      "\n"
     ]
    },
    {
     "data": {
      "image/png": "[encoded data removed]",
      "text/plain": [
       "<Figure size 1152x288 with 1 Axes>"
      ]
     },
     "metadata": {
      "needs_background": "light"
     },
     "output_type": "display_data"
    }
   ],
   "source": [
    "# List random of truncations in ascending order.\n",
    "N = 1000\n",
    "Ri_list = [N * [23], \n",
    "           np.sort(np.random.randint(1, 21+1, size=N)),\n",
    "           np.sort(np.random.randint(1, 30+1, size=N))]\n",
    "trunc_list = [[Ri[i] for Ri in Ri_list] for i in range(N)]\n",
    "\n",
    "# Remove duplicates from the list.\n",
    "trunc_list = [x for n, x in enumerate(trunc_list) if x not in trunc_list[:n]]    \n",
    "N = len(trunc_list)\n",
    "print('Number of truncations to be tested:', N)\n",
    "\n",
    "# Start the tests.\n",
    "trunc_error = tfx.test_truncation(T, trunc_list, display=False)\n",
    "\n",
    "# Now we plot the evolution of the energy and the corresponding errors.\n",
    "trunc_str = [str(trunc_list[i]) for i in range(N)]\n",
    "\n",
    "df = pd.DataFrame(index=[str(tuple(trunc_list[i])) for i in range(N)], data=trunc_error, columns=['Error'])\n",
    "\n",
    "# Print the first truncation with error than 1e-13.\n",
    "for idx in df.index:\n",
    "    if df.loc[idx, 'Error'] < 1e-13:\n",
    "        print('Recommended truncation =', idx, '    Relative error =', df.loc[idx, 'Error'], '\\n')\n",
    "        break\n",
    "\n",
    "df.plot(figsize=[16, 4], grid=True, legend=[])\n",
    "plt.ylabel('Relative Error')\n",
    "plt.xlabel('Truncation')\n",
    "plt.yscale('log')\n",
    "plt.show()"
   ]
  },
  {
   "cell_type": "markdown",
   "metadata": {},
   "source": [
    "In this test we found the truncation $(23, 15, 21)$, which is close enough to the optimal $(23, 15, 13)$ found by Tensor Fox methods. "
   ]
  },
  {
   "cell_type": "markdown",
   "metadata": {},
   "source": [
    "# Why do we need to do this if Tensor Fox is better?\n",
    "\n",
    "Actually, the original purpose function **test_truncation** wasn't to find the optimal truncation, but to understand how the error changes as the truncation changes. In general the error behaves as the example above, i.e., it doesn't change gradually but abruptly. \n",
    "\n",
    "Also it is important to remark that Tensor Fox works with approximations (like any solver), therefore the truncation given by Tensor Fox may not be always the optimal one. In that case it would be interesting for the user to use this truncation as starting point to test closer truncations. Sometimes they can find a smaller truncation with the same relative error. That wasn't the case for this particular example because Tensor Fox did found the optimal truncation (you are invited to check this by yourself)."
   ]
  },
  {
   "cell_type": "markdown",
   "metadata": {},
   "source": [
    "# Using the compressed tensor instead of the original one\n",
    "\n",
    "Just a quick recap: \n",
    " - We have our original raw tensor $T$, which is big and probably can be compressed.\n",
    " - $T = (U_1, \\ldots, U_L) \\cdot S$, where $S$ is the *core* tensor of the MLSVD of $T$. It is the compressed version of $T$.\n",
    " - All the talk above about truncation was about $S$, not $T$, you probably understand this at this point.\n",
    " - The dimensions of $S$ are $(R_1, \\ldots, R_L)$ and they satisfy $R_\\ell \\leq \\min\\{I_\\ell, R\\}$, where $I_\\ell$ is the $\\ell$-th dimension of $T$ and $R$ is the rank of $T$.\n",
    " - The CPD will be computed for $S$, because its cheaper to compute this CPD and once we have this CPD, the CPD of $T$ is easily obtained. \n",
    " - When we call the function **cpd** with Tensor Fox, it computes the compression $S$ and then the CPD of $S$. \n",
    " \n",
    "Assume that the compression computed is precise enough. Still we can have bad luck when computing the CPD, that is, the program may generate a bad starting point that will converge to a local minimum or the randomized steps may lead the program to a path leading to a local minimum. In any case the solution won't be close enough and we will have to run the **cpd** function again. Maybe the second time will be better (and probably will if the problem is not ill-posed). Regardless, we are computing the compression twice, once per **cpd** call. If the tensor is very large, we don't want to repeat this step several times.\n",
    "\n",
    "**The solution is**: We compute compression by ourselves and store it, then we can compute its CPD several times."
   ]
  },
  {
   "cell_type": "code",
   "execution_count": 6,
   "metadata": {},
   "outputs": [],
   "source": [
    "# sStart creating the class of options.\n",
    "class options:    \n",
    "    tol_mlsvd = 1e-16    # define an error thresold. Do not use a value <= 0 to compute the compression directly  \n",
    "\n",
    "# Call the MLSVD function. Only S and U matters for us.\n",
    "S, U, T1, sigmas = tfx.mlsvd(T, Tsize, R, options)    "
   ]
  },
  {
   "cell_type": "code",
   "execution_count": 7,
   "metadata": {},
   "outputs": [
    {
     "name": "stdout",
     "output_type": "stream",
     "text": [
      "-----------------------------------------------------------------------------------------------\n",
      "Computing MLSVD\n",
      "    No compression and no truncation requested by user\n",
      "    Working with dimensions (23, 15, 13)\n",
      "-----------------------------------------------------------------------------------------------\n",
      "Type of initialization: random\n",
      "-----------------------------------------------------------------------------------------------\n",
      "Computing CPD\n",
      "===============================================================================================\n",
      "Final results\n",
      "    Number of steps = 71\n",
      "    Relative error = 0.0032837636926134465\n",
      "    Accuracy =  99.67162 %\n"
     ]
    }
   ],
   "source": [
    "# Now we compute the CPD of S.\n",
    "options.tol_mlsvd = -1    # this options makes the program to skip the compression step, which is unnecessary now\n",
    "options.display = 1 \n",
    "factors, output = tfx.cpd(S, R, options)"
   ]
  },
  {
   "cell_type": "code",
   "execution_count": 8,
   "metadata": {},
   "outputs": [],
   "source": [
    "# We have that T = (U1, U2, U3)*S = (U1, U2, U3)*(W1, W2, W3)*I = (U1*W1, U2*W2, U3*W3)*I, where W1, W2, W3 are the\n",
    "# factor matrices of S. Therefore U1*W1, U2*W2, U3*W3 atr the factor matrices of T.\n",
    "factors = [np.dot(u, w) for u, w in zip(U, factors)]"
   ]
  },
  {
   "cell_type": "code",
   "execution_count": 9,
   "metadata": {},
   "outputs": [
    {
     "name": "stdout",
     "output_type": "stream",
     "text": [
      "Rel error = 0.003283763683323289\n"
     ]
    }
   ],
   "source": [
    "# Thi step you can skip, but we can check the solution by computing the difference between T and its approximation..\n",
    "T_approx = tfx.cpd2tens(factors)\n",
    "print('Rel error =', np.linalg.norm(T - T_approx)/np.linalg.norm(T))"
   ]
  },
  {
   "cell_type": "markdown",
   "metadata": {},
   "source": [
    "Since the compression error is close to $10^{-10}$, we can see the the major part of the error comes from the CPD of $S$. That is why it is interesting to save the compression to work with. If there is a way to improve the CPD it will be through the CPD of $S$, and since this tensor is much smaller than the original one, we can make several experimentations within a reasonable time. To illustrate let's try to improve the previous result by testing some combination of parameters."
   ]
  },
  {
   "cell_type": "code",
   "execution_count": 10,
   "metadata": {},
   "outputs": [
    {
     "name": "stdout",
     "output_type": "stream",
     "text": [
      "cg_factor = 1 cg_tol = 1e-16 cg_maxiter = 10 rel_error = 0.0008119791706034351\n",
      "cg_factor = 1 cg_tol = 1e-16 cg_maxiter = 50 rel_error = 0.016084344791253775\n",
      "cg_factor = 1 cg_tol = 1e-16 cg_maxiter = 100 rel_error = 0.022702230421409328\n",
      "cg_factor = 1 cg_tol = 1e-32 cg_maxiter = 10 rel_error = 0.0005792224496884473\n",
      "cg_factor = 1 cg_tol = 1e-32 cg_maxiter = 50 rel_error = 0.0009860404374674948\n",
      "cg_factor = 1 cg_tol = 1e-32 cg_maxiter = 100 rel_error = 0.0006396735076255657\n",
      "cg_factor = 2 cg_tol = 1e-16 cg_maxiter = 10 rel_error = 5.104885966820021e-05\n",
      "cg_factor = 2 cg_tol = 1e-16 cg_maxiter = 50 rel_error = 0.00261625228181017\n",
      "cg_factor = 2 cg_tol = 1e-16 cg_maxiter = 100 rel_error = 0.00024837738355077896\n",
      "cg_factor = 2 cg_tol = 1e-32 cg_maxiter = 10 rel_error = 0.0003175131030131979\n",
      "cg_factor = 2 cg_tol = 1e-32 cg_maxiter = 50 rel_error = 0.013281244099511553\n",
      "cg_factor = 2 cg_tol = 1e-32 cg_maxiter = 100 rel_error = 0.0006752766585166126\n",
      "cg_factor = 5 cg_tol = 1e-16 cg_maxiter = 10 rel_error = 6.116945391934482e-05\n",
      "cg_factor = 5 cg_tol = 1e-16 cg_maxiter = 50 rel_error = 0.00047982445653360476\n",
      "cg_factor = 5 cg_tol = 1e-16 cg_maxiter = 100 rel_error = 2.138591871924636e-05\n",
      "cg_factor = 5 cg_tol = 1e-32 cg_maxiter = 10 rel_error = 0.00021214454219378875\n",
      "cg_factor = 5 cg_tol = 1e-32 cg_maxiter = 50 rel_error = 0.0005686586819930434\n",
      "cg_factor = 5 cg_tol = 1e-32 cg_maxiter = 100 rel_error = 0.00022684920763262577\n",
      "cg_factor = 10 cg_tol = 1e-16 cg_maxiter = 10 rel_error = 5.0889191059529824e-05\n",
      "cg_factor = 10 cg_tol = 1e-16 cg_maxiter = 50 rel_error = 0.00021858091272801335\n",
      "cg_factor = 10 cg_tol = 1e-16 cg_maxiter = 100 rel_error = 0.00011091253167695742\n",
      "cg_factor = 10 cg_tol = 1e-32 cg_maxiter = 10 rel_error = 0.00040046777402471905\n",
      "cg_factor = 10 cg_tol = 1e-32 cg_maxiter = 50 rel_error = 0.0005158379850356407\n",
      "cg_factor = 10 cg_tol = 1e-32 cg_maxiter = 100 rel_error = 0.000422940926866856\n",
      "Best model: cg_factor = 5 cg_tol = 1e-16 cg_maxiter = 100\n",
      "Final best rel_error = 2.138591871924636e-05\n"
     ]
    }
   ],
   "source": [
    "best_error = np.inf\n",
    "\n",
    "for cg_factor in [1, 2, 5, 10]:\n",
    "    for cg_tol in [1e-16, 1e-32]:\n",
    "        for cg_maxiter in [10, 50, 100]:\n",
    "            options.tol_mlsvd = -1 \n",
    "            options.display = 0\n",
    "            options.cg_factor = cg_factor\n",
    "            options.cg_tol = cg_tol\n",
    "            options.cg_maxiter = cg_maxiter\n",
    "            factors, output = tfx.cpd(S, R, options)\n",
    "            print('cg_factor =', cg_factor, 'cg_tol =', cg_tol, 'cg_maxiter =', cg_maxiter, 'rel_error =', output.rel_error)\n",
    "            \n",
    "            if output.rel_error < best_error:\n",
    "                best_error = output.rel_error\n",
    "                best_factors = [np.dot(u, w) for u, w in zip(U, factors)]\n",
    "                best_output = copy(output)\n",
    "    \n",
    "output = best_output\n",
    "factors = best_factors\n",
    "print('Best model: cg_factor =', output.options.cg_factor, 'cg_tol =', output.options.cg_tol, 'cg_maxiter =', output.options.cg_maxiter)\n",
    "print('Final best rel_error =', output.rel_error)"
   ]
  },
  {
   "cell_type": "markdown",
   "metadata": {},
   "source": [
    "There are several ways of doing this and of course there are many more possibilities. I think you got the idea at this point, this is what really matter. "
   ]
  }
 ],
 "metadata": {
  "kernelspec": {
   "display_name": "Python 3 (ipykernel)",
   "language": "python",
   "name": "python3"
  },
  "language_info": {
   "codemirror_mode": {
    "name": "ipython",
    "version": 3
   },
   "file_extension": ".py",
   "mimetype": "text/x-python",
   "name": "python",
   "nbconvert_exporter": "python",
   "pygments_lexer": "ipython3",
   "version": "3.10.0"
  }
 },
 "nbformat": 4,
 "nbformat_minor": 2
}
