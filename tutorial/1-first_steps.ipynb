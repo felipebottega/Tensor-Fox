{
 "cells": [
  {
   "cell_type": "markdown",
   "metadata": {},
   "source": [
    "# First things first\n",
    "\n",
    "Welcome to our very first introduction to *Tensor Fox*, a specialized library made to deal with tensors of any order with focus on the CPD (Canonical Polyadic Decomposition). To be able to use Tensor Fox properly you will need the following modules:\n",
    "\n",
    "- numpy\n",
    "\n",
    "- pandas\n",
    "\n",
    "- scipy\n",
    "\n",
    "- sklearn\n",
    "\n",
    "- matplotlib\n",
    "\n",
    "- numba\n",
    "\n",
    "Make sure Numba and Numpy are up to date. Additionaly, make sure you are using a nice BLAS version. That is all! Tensor Fox is read to go! Let's start importing Tensor Fox and other necessary modules for this first lesson."
   ]
  },
  {
   "cell_type": "code",
   "execution_count": 1,
   "metadata": {},
   "outputs": [],
   "source": [
    "import numpy as np\n",
    "import TensorFox as tfx"
   ]
  },
  {
   "cell_type": "markdown",
   "metadata": {},
   "source": [
    "# Creating your tensor\n",
    "\n",
    "Let's create a little tensor $T$ just to see how Tensor Fox works at its basics. For third order tensors (3D arrays) I use the convention that $T_{ijk}$ refers to the $i$-th row, $j$-column and $k$-slice (frontal slice) of $T$. For instance, consider the tensor defined above (the frontal slices of $T$ are showed)\n",
    "\n",
    "$$T = \\left\\{ \\left[\n",
    "\\begin{array}{cc}\n",
    "    0 & 1\\\\\n",
    "    2 & 3\n",
    "\\end{array}\n",
    "\\right], \\quad\n",
    "\\left[\n",
    "\\begin{array}{cc}\n",
    "    4 & 5\\\\\n",
    "    6 & 7\n",
    "\\end{array}\n",
    "\\right] \\right\\}.$$\n",
    "\n",
    "This particular tensor will be our toy model through all lessons."
   ]
  },
  {
   "cell_type": "code",
   "execution_count": 2,
   "metadata": {},
   "outputs": [],
   "source": [
    "# Create a 2 x 2 x 2 tensor.\n",
    "m = 2\n",
    "T = np.zeros((m, m, m))\n",
    "s = 0\n",
    "\n",
    "for k in range(m):\n",
    "    for i in range(m):\n",
    "        for j in range(m):\n",
    "            T[i,j,k] = s\n",
    "            s += 1"
   ]
  },
  {
   "cell_type": "markdown",
   "metadata": {},
   "source": [
    "There are a lot of questions we can make about a given tensor $T$. What are its maximum and minimum entries, what are the dimensions of $T$, the rank and multirank, etc. Even in the case of the simple tensor above we can't know all these answers in advance. The function **infotens** shows lots of information about $T$ for your convenience. This function is useful for small tensors, but remember that finding the rank is a NP-hard task, so don't abuse. "
   ]
  },
  {
   "cell_type": "code",
   "execution_count": 3,
   "metadata": {},
   "outputs": [
    {
     "name": "stdout",
     "output_type": "stream",
     "text": [
      "T is a tensor of dimensions (2, 2, 2)\n",
      "\n",
      "|T| = 11.832159566199232\n",
      "\n",
      "max(T) = 7.0\n",
      "\n",
      "min(T) = 0.0\n",
      "\n",
      "mean(T) = 3.5\n",
      "\n",
      "mean(|T|) = 3.5\n",
      "\n",
      "var(T) = 5.25\n",
      "\n"
     ]
    },
    {
     "data": {
      "image/png": "[encoded data removed]",
      "text/plain": [
       "<Figure size 432x288 with 1 Axes>"
      ]
     },
     "metadata": {
      "needs_background": "light"
     },
     "output_type": "display_data"
    },
    {
     "name": "stdout",
     "output_type": "stream",
     "text": [
      "\n",
      "1 <= rank(T) <= 4\n",
      "\n",
      "Generic rank of the tensor space of T = 2\n",
      "\n",
      "Computing multilinear rank...\n",
      "------------------------------------\n",
      "    Compressing unfolding mode 1\n",
      "    Compressing unfolding mode 2\n",
      "    Compressing unfolding mode 3\n",
      "multirank(T) = (2, 2, 2)\n",
      "|T - (U_1, ..., U_3)*S|/|T| = 9.987159834212956e-16\n",
      "\n",
      "Computing rank...\n",
      "Start searching for rank\n",
      "Stops at R = 4  or less\n",
      "-----------------------------\n",
      "Testing R = 3\n",
      "rank(T) = 3\n",
      "|T - T_approx|/|T| = 9.25936271758154e-16\n",
      "\n"
     ]
    }
   ],
   "source": [
    "# Let's see some information about T.\n",
    "tfx.infotens(T)"
   ]
  },
  {
   "cell_type": "markdown",
   "metadata": {},
   "source": [
    "# Computing the CPD\n",
    "\n",
    "Now let's turn to the most important tool of Tensor Fox, the computation of the CPD. As the previous function hinted, $T$ should have rank 3. We can compute the corresponding CPD with the function **cpd**. Since Tensor Fox is compiled, the first run is slower than the remaining ones. Don't forget that."
   ]
  },
  {
   "cell_type": "code",
   "execution_count": 4,
   "metadata": {},
   "outputs": [
    {
     "name": "stdout",
     "output_type": "stream",
     "text": [
      "X =\n",
      " [[ 1.38570351 -0.85627676 -0.02444902]\n",
      " [ 1.60956016 -0.5509813  -1.50716444]]\n",
      "\n",
      "Y =\n",
      " [[ 1.4597421   0.56420558  0.96939969]\n",
      " [ 1.54272847 -0.84762158  1.1542992 ]]\n",
      "\n",
      "Z =\n",
      " [[ 0.1777078   0.8055931  -1.25451327]\n",
      " [ 2.11643051  0.62274397 -0.83566671]]\n",
      "\n",
      "T_approx =\n",
      "[[-1.40859546e-15  1.00000000e+00]\n",
      " [ 2.00000000e+00  3.00000000e+00]]\n",
      "\n",
      "[[4. 5.]\n",
      " [6. 7.]]\n",
      "\n",
      "|T - T_approx|/|T| = 5.668021858984811e-16\n"
     ]
    }
   ],
   "source": [
    "# Compute the CPD of T, assuming T has rank 3.\n",
    "R = 3\n",
    "factors, output = tfx.cpd(T, R)\n",
    "\n",
    "# 'factors' is the list of the factor matrices associated with the CPD.\n",
    "X = factors[0]\n",
    "Y = factors[1]\n",
    "Z = factors[2]\n",
    "\n",
    "# Show the CPD computed. \n",
    "print('X =\\n', X)\n",
    "print()\n",
    "print('Y =\\n', Y)\n",
    "print()\n",
    "print('Z =\\n', Z)\n",
    "print()\n",
    "\n",
    "# Show the coordinate representation of this CPD.\n",
    "print('T_approx =')\n",
    "T_approx = tfx.cpd2tens(factors)\n",
    "tfx.showtens(T_approx)\n",
    "\n",
    "# Show relative error of this approximation.\n",
    "print('|T - T_approx|/|T| =', output.rel_error)"
   ]
  },
  {
   "cell_type": "markdown",
   "metadata": {},
   "source": [
    "If it is convenient to use normalized factors, we can convert everything to the format $\\Lambda, X, Y, Z$, where the columns of $X, Y, Z$ are unit norm and their magnitudes are passed to the central tensor $\\Lambda \\in \\mathbb{R}^{R \\times R \\times R}$. Since $\\Lambda$ is a diagonal tensor, we can store its values as a unidimensional array of size $R$. This is made such that\n",
    "$$T \\approx \\sum_{r=1}^R \\Lambda_r \\ X_{:, r} \\otimes Y_{:, r} \\otimes Z_{:, r}.$$\n",
    "\n",
    "We denote this relation as $T \\approx (X, Y, Z) \\cdot \\Lambda$, the multilinear multiplication. With a simple command we can obtain this factorization."
   ]
  },
  {
   "cell_type": "code",
   "execution_count": 5,
   "metadata": {},
   "outputs": [
    {
     "name": "stdout",
     "output_type": "stream",
     "text": [
      "Lambda =\n",
      " [9.5805128  1.05568994 3.42494276]\n",
      "\n",
      "X =\n",
      " [[ 0.65244023 -0.84094714 -0.01621973]\n",
      " [ 0.75784018 -0.54111728 -0.99986845]]\n",
      "\n",
      "Y =\n",
      " [[ 0.68730033  0.55410481  0.64310977]\n",
      " [ 0.72637336 -0.83244691  0.76577401]]\n",
      "\n",
      "Z =\n",
      " [[ 0.08367137  0.79117084 -0.83225706]\n",
      " [ 0.9964934   0.61159521 -0.55438992]]\n",
      "\n"
     ]
    }
   ],
   "source": [
    "Lambda, factors = tfx.normalize(factors)\n",
    "X = factors[0]\n",
    "Y = factors[1]\n",
    "Z = factors[2]\n",
    "\n",
    "print('Lambda =\\n', Lambda)\n",
    "print()\n",
    "print('X =\\n', X)\n",
    "print()\n",
    "print('Y =\\n', Y)\n",
    "print()\n",
    "print('Z =\\n', Z)\n",
    "print()"
   ]
  }
 ],
 "metadata": {
  "kernelspec": {
   "display_name": "Python 3 (ipykernel)",
   "language": "python",
   "name": "python3"
  },
  "language_info": {
   "codemirror_mode": {
    "name": "ipython",
    "version": 3
   },
   "file_extension": ".py",
   "mimetype": "text/x-python",
   "name": "python",
   "nbconvert_exporter": "python",
   "pygments_lexer": "ipython3",
   "version": "3.10.0"
  }
 },
 "nbformat": 4,
 "nbformat_minor": 2
}
