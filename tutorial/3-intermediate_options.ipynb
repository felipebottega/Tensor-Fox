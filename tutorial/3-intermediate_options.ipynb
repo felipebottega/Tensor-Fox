{
 "cells": [
  {
   "cell_type": "markdown",
   "metadata": {},
   "source": [
    "# Intermediate options\n",
    "\n",
    "In the previous lesson we talked about the following options:\n",
    "\n",
    "    display\n",
    "    maxiter  \n",
    "    tol \n",
    "    tol_step\n",
    "    tol_improv\n",
    "    tol_grad\n",
    "    \n",
    "These options are standard in many iterative algorithms and the user may be satisfied with this. In fact, Tensor Fox was constructed in order to be as robust as possible. The several extra options should be used only when the options above are not enough (and when this happens, be sure you are handling a difficult tensor).\n",
    "\n",
    "The following options will be introduced now:\n",
    "\n",
    "    mlsvd_method\n",
    "    tol_mlsvd\n",
    "    svd_n_components\n",
    "    trunc_dims\n",
    "    initialization\n",
    "    refine    \n",
    "    init_damp\n",
    "    symm    \n",
    "    tol_jump"
   ]
  },
  {
   "cell_type": "code",
   "execution_count": 1,
   "metadata": {},
   "outputs": [],
   "source": [
    "import numpy as np\n",
    "import matplotlib.pyplot as plt\n",
    "import TensorFox as tfx\n",
    "\n",
    "class options:    # start creating an empty class\n",
    "    pass\n",
    "\n",
    "options = tfx.make_options(options)    # update the class"
   ]
  },
  {
   "cell_type": "code",
   "execution_count": 2,
   "metadata": {},
   "outputs": [],
   "source": [
    "# Create and print the tensor.\n",
    "m = 2\n",
    "T = np.zeros((m, m, m))\n",
    "s = 0\n",
    "\n",
    "for k in range(m):\n",
    "    for i in range(m):\n",
    "        for j in range(m):\n",
    "            T[i,j,k] = s\n",
    "            s += 1"
   ]
  },
  {
   "cell_type": "markdown",
   "metadata": {},
   "source": [
    "# Truncation\n",
    "\n",
    "In several applications of linear algebra, often one have to compute the truncated SVD of some matrix. By truncating we can reduce the dimensionality of the problem, which leads to lots of speed up. On the other hand, we lost information after the truncation. Ideally, we want to truncate as much as possible while maintaining the relevant information.\n",
    "\n",
    "The same can be made for tensors, but in this context we use the [multilinear singular value decomposition](https://epubs.siam.org/doi/abs/10.1137/s0895479896305696) (MLSVD). If $T$ is a $L$-order tensor, then its MLSVD is written as $T = (U_1, \\ldots, U_L) \\cdot S$, where each $U_l$ is a orthogonal matrix and $S$ is a tensor with the same shape as $T$ (we consider $S$ as the *compressed* version of $T$). The notation used stands for the [multilinear multiplication](https://en.wikipedia.org/wiki/Multilinear_multiplication) brtween the $L$-tuple and the tensor $S$. This tensor $S$ is called the *central tensor* (or *core tensor*) and it is the analogous of $\\Sigma$ in the classical SVD of the form $A = U \\Sigma V^T$. Note that we've said that $S$ is of the same shape as $T$, and just as in the 2D linear algebra, this is the *full* MLSVD, in contrast to the *reduced* MLSVD. In the same way we can consider the reduced SVD $A = U \\Sigma V^T$ where $\\Sigma$ is $R \\times R$ (and $R$ is the rank of $A$), we can have $S$ of shape $R_1 \\times R_2 \\times \\ldots \\times R_L$. The tuple $(R_1, R_2, \\ldots, R_L)$ is the *multilinear rank* of $T$. Tensor Fox has two methods to compute the (reduced) MLSVD: the *classic* and the *sequential* methods, both being controlled by the parameter $\\verb|mlsvd| \\_ \\verb|tol|$. The default is the sequential method, which is faster but not as precise as the classic. However, in general the precision of this method is good enough. For more about this subject, read [this link](https://en.wikipedia.org/wiki/Higher-order_singular_value_decomposition#Computation).\n",
    "\n",
    "The level of trnucation is controlled by the parameter $\\verb|tol| \\_ \\verb|mlsvd|$, which is $10^{-6}$ by default. The program computes the SVD of each unfolding $T_{(\\ell)}$. Then it computes the errors \n",
    "$$\\| T_{(\\ell)} - \\tilde{T}_{(\\ell)} \\|^2 / \\|T_{(\\ell)}\\|^2,$$ where $\\tilde{T}_{(\\ell)}$ is obtained by a truncated SVD of $T_{(\\ell)}$. The program increases the rank of the truncations sequentially, until the condition \n",
    "$$\\| T_{(\\ell)} - \\tilde{T}_{(\\ell)} \\|^2 / \\|T_{(\\ell)}\\|^2 < \\verb|tol| \\_ \\verb|mlsvd|$$ \n",
    "is satisfied. Two special values are the following.\n",
    "\n",
    "**1)** $\\verb|tol| \\_ \\verb|mlsvd| = 0$: compress the tensor (that is, compute its MLSVD) but do not truncate the central tensor of the MLSVD.\n",
    "\n",
    "**2)** $\\verb|tol| \\_ \\verb|mlsvd| = -1$: use the original tensor, so the computation of the MLSVD is not performed.\n",
    " \n",
    "If you are working with tensor with order higher than $3$, then you can pass $\\verb|tol| \\_ \\verb|mlsvd|$ as a list with two values. The first one works for the truncation of the original high order tensor. The second one works for the truncations of the associated tensor train third order CPD's (see next lesson). If you set $\\verb|tol| \\_ \\verb|mlsvd|$ to a single value, the program assumes you want to use this value for both high order and third order tensors. Finally, we want to mention that you can also use the parameter $\\verb|trunc| \\_ \\verb|dims|$ to tell the program the exactly truncation you want to use. Just set this parameter to be a list of the dimensions you want (default is $\\verb|trunc| \\_ \\verb|dims| = 0$, which lets the program to decide the best truncation). If you are work with tensors with order higher than $3$, this parameter refers to the original high order tensor only. \n",
    "\n",
    "In the example we are working it is possible to note that the program is unable to truncate. Still, we can force some truncation, say $2 \\times 1 \\times 1$, and see if we get good precision of this. The precision can already be antecipated just by seeing the relative error of the compression (remember that this requires setting $\\verb|display|$ to $3$, which can be costly), that is, the line\n",
    "\n",
    "    Compression relative error = 0.130828\n",
    "\n",
    "That line says this is the best precision we can get. This is because this is the error of the truncated $S$ and $T$, and all the iterations to be made will try to obtain a CPD for $S$."
   ]
  },
  {
   "cell_type": "code",
   "execution_count": 3,
   "metadata": {
    "scrolled": false
   },
   "outputs": [
    {
     "name": "stdout",
     "output_type": "stream",
     "text": [
      "-----------------------------------------------------------------------------------------------\n",
      "Computing MLSVD\n",
      "    Compressing unfolding mode 1\n",
      "    Compressing unfolding mode 2\n",
      "    Compressing unfolding mode 3\n",
      "    Compression detected\n",
      "    Compressing from (2, 2, 2) to (2, 1, 1)\n",
      "-----------------------------------------------------------------------------------------------\n",
      "Type of initialization: random\n",
      "-----------------------------------------------------------------------------------------------\n",
      "Computing CPD\n",
      "===============================================================================================\n",
      "Final results\n",
      "    Number of steps = 127\n",
      "    Relative error = 0.13082808697999462\n",
      "    Accuracy =  86.91719 %\n"
     ]
    }
   ],
   "source": [
    "options.display = 1\n",
    "options.trunc_dims = [2,1,1]\n",
    "\n",
    "R = 3\n",
    "factors, output = tfx.cpd(T, R, options)"
   ]
  },
  {
   "cell_type": "markdown",
   "metadata": {},
   "source": [
    "The option  $\\verb|svd| \\_ \\verb|n| \\_ \\verb|components|$ (integer) controls the number of singular values and vectors to extract when computing the randomized SVD. The default is set to $\\verb|None|$, so the program decides for itself which values to use. In practice the default works very well. \n",
    "\n",
    "By default the program will use $\\min(R, dims[l])$ for dense tensors and $L \\cdot \\min(R, dims[l])$ for sparse tensors, where $L$ is the number of dimensions (modes), $R$ is the rank and $dims[l]$ is the $l$-th dimension of the tensors. The number of components for each dimension is an upper bound for the dimension of the compressed tensor. Higher values may lead to better approximations with a cost on computational cost. "
   ]
  },
  {
   "cell_type": "markdown",
   "metadata": {},
   "source": [
    "# Initialization\n",
    "\n",
    "The iteration process needs a starting point for iterating. This starting point depends on the $\\verb|initialization|$ option, and there are three possible choices in this case: $\\verb|smart|, \\ \\verb|smart| \\_ \\verb|random|, \\ \\verb|random|$ and $\\verb|user|$. Both $\\verb|smart|$ and $\\verb|smart| \\_ \\verb|random|$ options generates a CPD of rank $R$ with a strategy relying on the MLSVD. The strategy $\\verb|smart|$ maximizes the energy of the initialization wheareas $\\verb|smart| \\_ \\verb|random|$ makes almost the same, but with a chance to take some different entries. These strategies generates starting points with small relative error, so it is already close to the objective tensor. Although this seems to be a good thing, there is also a risk to be close to a local minimum or saddle point, and in this cases these methods will always fail. The $\\verb|random|$ is more robust, this option generates a CPD of rank $R$ with entries drawn from the normal distribution. The relative error in this case usually is close to $1$. Finally, there is the $\\verb|user|$ option where the user provides a list $[X, Y, Z]$ as starting point. This is a good idea when we already have a close CPD and want to increase its precision."
   ]
  },
  {
   "cell_type": "code",
   "execution_count": 4,
   "metadata": {},
   "outputs": [
    {
     "name": "stdout",
     "output_type": "stream",
     "text": [
      "-----------------------------------------------------------------------------------------------\n",
      "Computing MLSVD\n",
      "    Compressing unfolding mode 1\n",
      "    Compressing unfolding mode 2\n",
      "    Compressing unfolding mode 3\n",
      "    No compression detected\n",
      "    Working with dimensions (2, 2, 2)\n",
      "-----------------------------------------------------------------------------------------------\n",
      "Type of initialization: smart_random\n",
      "-----------------------------------------------------------------------------------------------\n",
      "Computing CPD\n",
      "===============================================================================================\n",
      "Final results\n",
      "    Number of steps = 127\n",
      "    Relative error = 5.053170239402623e-16\n",
      "    Accuracy =  100.0 %\n"
     ]
    }
   ],
   "source": [
    "# Compute the CPD of T with random initialization. \n",
    "# Notice we need to set trunc_dims to zero so the program can decide which truncation to use.\n",
    "options.trunc_dims = 0\n",
    "options.initialization = 'smart_random'\n",
    "factors, output = tfx.cpd(T, R, options)"
   ]
  },
  {
   "cell_type": "code",
   "execution_count": 5,
   "metadata": {},
   "outputs": [
    {
     "name": "stdout",
     "output_type": "stream",
     "text": [
      "-----------------------------------------------------------------------------------------------\n",
      "Computing MLSVD\n",
      "    Compressing unfolding mode 1\n",
      "    Compressing unfolding mode 2\n",
      "    Compressing unfolding mode 3\n",
      "    No compression detected\n",
      "    Working with dimensions (2, 2, 2)\n",
      "-----------------------------------------------------------------------------------------------\n",
      "Type of initialization: user\n",
      "-----------------------------------------------------------------------------------------------\n",
      "Computing CPD\n",
      "===============================================================================================\n",
      "Final results\n",
      "    Number of steps = 64\n",
      "    Relative error = 0.13079807124883466\n",
      "    Accuracy =  86.92019 %\n"
     ]
    }
   ],
   "source": [
    "# Compute the CPD of T with user initialization.\n",
    "X = np.ones((m, R))\n",
    "Y = np.ones((m, R))\n",
    "Z = np.ones((m, R))\n",
    "options.initialization = [X,Y,Z]\n",
    "factors, output = tfx.cpd(T, R, options)"
   ]
  },
  {
   "cell_type": "markdown",
   "metadata": {},
   "source": [
    "# Refinement\n",
    "\n",
    "As we mentioned before, the user may give an initial CPD as starting point for our iterative algorithm, which may be a good idea when it is desired to increase the precision of the CPD. This process can be done automatically by setting $\\verb|refine|$ to True. This option makes the program runs the algorithm two times, where the second run uses the approximated CPD computed in the first run as starting point. However, this second run is made in the original space (the space of the tensor $T$). Ideally, we want to compress and limit ourselves to the compressed version of $T$, but if this is not enough, the $\\verb|refine|$ option can squeeze more precision at a cost of working with uncompressed tensors. This options obly work for third order tensors. If you are working with a high order tensor, the program will use this options only for the intermediate third order tensors."
   ]
  },
  {
   "cell_type": "code",
   "execution_count": 6,
   "metadata": {
    "scrolled": false
   },
   "outputs": [
    {
     "name": "stdout",
     "output_type": "stream",
     "text": [
      "-----------------------------------------------------------------------------------------------\n",
      "Computing MLSVD\n",
      "    Compressing unfolding mode 1\n",
      "    Compressing unfolding mode 2\n",
      "    Compressing unfolding mode 3\n",
      "    No compression detected\n",
      "    Working with dimensions (2, 2, 2)\n",
      "    Compression relative error = 6.309043e-16\n",
      "-----------------------------------------------------------------------------------------------\n",
      "Type of initialization: random\n",
      "    Initial guess relative error = 1.107664e+00\n",
      "-----------------------------------------------------------------------------------------------\n",
      "Computing CPD\n",
      "    Iteration | Rel error |  Step size  | Improvement | norm(grad) | Predicted error | # Inner iterations\n",
      "        1     | 9.70e-01  |  1.33e-01   |  9.70e-01   |  3.00e+01  |    2.38e-02     |        2        \n",
      "        2     | 7.79e-01  |  1.96e-01   |  1.92e-01   |  2.35e+01  |    6.23e-04     |        3        \n",
      "        3     | 2.36e-01  |  4.08e-01   |  5.43e-01   |  1.65e+01  |    5.66e-03     |        3        \n",
      "        4     | 1.23e-01  |  9.33e-02   |  1.13e-01   |  5.15e+00  |    1.69e-03     |        3        \n",
      "        5     | 1.06e-01  |  3.62e-02   |  1.63e-02   |  1.03e+00  |    1.53e-03     |        3        \n",
      "        6     | 9.49e-02  |  2.83e-02   |  1.14e-02   |  6.31e-01  |    1.26e-03     |        5        \n",
      "        7     | 7.31e-02  |  5.06e-02   |  2.18e-02   |  6.64e-01  |    3.52e-03     |        6        \n",
      "        8     | 3.39e-02  |  7.22e-02   |  3.92e-02   |  6.26e-01  |    6.61e-03     |        4        \n",
      "        9     | 1.08e-02  |  2.49e-02   |  2.32e-02   |  8.81e-01  |    7.68e-06     |        6        \n",
      "       10     | 8.16e-03  |  2.16e-02   |  2.62e-03   |  1.07e-01  |    5.44e-05     |        5        \n",
      "       11     | 6.71e-03  |  5.46e-03   |  1.45e-03   |  9.77e-02  |    2.82e-06     |        6        \n",
      "       12     | 6.57e-03  |  8.87e-04   |  1.44e-04   |  1.78e-02  |    2.24e-06     |        4        \n",
      "       13     | 4.69e-03  |  2.00e-02   |  1.88e-03   |  1.65e-02  |    1.75e-05     |        7        \n",
      "       14     | 3.26e-03  |  4.24e-03   |  1.42e-03   |  6.14e-02  |    1.38e-06     |        7        \n",
      "       15     | 2.80e-03  |  3.96e-03   |  4.67e-04   |  1.95e-02  |    1.75e-06     |        7        \n",
      "       16     | 2.61e-03  |  7.46e-04   |  1.84e-04   |  1.76e-02  |    1.20e-06     |        4        \n",
      "       17     | 9.75e-04  |  1.46e-02   |  1.64e-03   |  1.54e-02  |    2.30e-08     |        11       \n",
      "       18     | 3.99e-05  |  6.42e-04   |  9.35e-04   |  3.03e-02  |    1.34e-10     |        14       \n",
      "       19     | 9.10e-06  |  2.88e-05   |  3.08e-05   |  9.26e-04  |    1.47e-11     |        9        \n",
      "       20     | 8.19e-06  |  5.70e-06   |  9.12e-07   |  5.00e-05  |    1.68e-11     |        6        \n",
      "       21     | 2.22e-06  |  4.03e-05   |  5.97e-06   |  6.23e-05  |    2.85e-12     |        9        \n",
      "       22     | 2.43e-07  |  4.06e-06   |  1.98e-06   |  5.08e-05  |    9.36e-18     |        16       \n",
      "       23     | 1.05e-08  |  1.34e-07   |  2.33e-07   |  6.68e-06  |    6.53e-17     |        7        \n",
      "       24     | 1.23e-09  |  2.35e-08   |  9.23e-09   |  2.63e-07  |    6.82e-22     |        16       \n",
      "       25     | 7.11e-11  |  6.45e-10   |  1.16e-09   |  3.31e-08  |    2.39e-21     |        7        \n",
      "       26     | 2.73e-11  |  5.08e-11   |  4.38e-11   |  1.56e-09  |    1.05e-22     |        8        \n",
      "       27     | 2.07e-11  |  4.71e-11   |  6.66e-12   |  2.46e-10  |    2.88e-22     |        8        \n",
      "       28     | 5.23e-12  |  9.53e-11   |  1.54e-11   |  2.41e-10  |    2.78e-24     |        17       \n",
      "       29     | 1.26e-13  |  3.01e-12   |  5.10e-12   |  1.42e-10  |    2.85e-28     |        17       \n",
      "       30     | 2.70e-14  |  2.43e-13   |  9.88e-14   |  4.11e-12  |    1.39e-28     |        18       \n",
      "       31     | 1.32e-05  |  2.68e-04   |  1.32e-05   |  8.53e-13  |    2.10e-20     |        22       \n",
      "       32     | 2.19e-07  |  6.56e-06   |  1.30e-05   |  4.40e-04  |    4.42e-15     |        12       \n",
      "       33     | 6.83e-08  |  1.11e-06   |  1.51e-07   |  1.39e-06  |    6.02e-17     |        21       \n",
      "       34     | 3.41e-09  |  8.83e-08   |  6.49e-08   |  1.87e-06  |    4.40e-18     |        12       \n",
      "       35     | 1.98e-10  |  1.70e-09   |  3.21e-09   |  9.49e-08  |    5.38e-21     |        6        \n",
      "       36     | 7.48e-11  |  9.01e-10   |  1.23e-10   |  2.85e-09  |    2.13e-21     |        9        \n",
      "       37     | 4.67e-12  |  8.24e-11   |  7.01e-11   |  1.91e-09  |    1.26e-28     |        19       \n",
      "       38     | 1.79e-13  |  2.39e-12   |  4.49e-12   |  1.55e-10  |    6.05e-28     |        24       \n",
      "       39     | 2.22e-14  |  1.28e-13   |  1.57e-13   |  4.79e-12  |    4.99e-29     |        12       \n",
      "       40     | 2.06e-15  |  2.76e-14   |  2.01e-14   |  6.33e-13  |    9.57e-31     |        18       \n",
      "       41     | 2.01e-15  |  1.07e-14   |  4.60e-17   |  6.44e-14  |    3.54e-30     |        10       \n",
      "       42     | 2.37e-14  |  5.12e-13   |  2.17e-14   |  3.73e-14  |    2.58e-29     |        23       \n",
      "       43     | 8.67e-13  |  0.00e+00   |  8.43e-13   |  7.39e-13  |    1.19e-25     |        24       \n",
      "       44     | 8.59e-13  |  4.55e-12   |  7.84e-15   |  6.46e-12  |    2.34e-28     |        23       \n",
      "       45     | 3.82e-13  |  3.80e-12   |  4.76e-13   |  7.67e-12  |    1.79e-25     |        8        \n",
      "       46     | 7.12e-14  |  6.97e-13   |  3.11e-13   |  7.00e-12  |    3.10e-27     |        14       \n",
      "       47     | 1.41e-14  |  2.01e-13   |  5.70e-14   |  1.49e-12  |    1.98e-29     |        31       \n",
      "       48     | 6.88e-11  |  0.00e+00   |  6.88e-11   |  3.84e-13  |    4.09e-25     |        25       \n",
      "       49     | 6.83e-11  |  3.06e-11   |  5.22e-13   |  2.32e-09  |    5.83e-25     |        12       \n",
      "       50     | 1.05e-12  |  3.05e-11   |  6.73e-11   |  2.29e-09  |    1.89e-26     |        16       \n",
      "       51     | 9.57e-14  |  6.84e-13   |  9.58e-13   |  3.09e-11  |    5.02e-28     |        12       \n",
      "       52     | 2.47e-14  |  4.83e-13   |  7.10e-14   |  2.26e-12  |    2.62e-28     |        27       \n",
      "       53     | 1.20e-15  |  2.58e-14   |  2.35e-14   |  7.44e-13  |    4.73e-30     |        14       \n",
      "       54     | 8.64e-02  |  1.98e-01   |  8.64e-02   |  3.55e-14  |    7.54e-15     |        32       \n",
      "       55     | 2.93e-03  |  3.21e-02   |  8.35e-02   |  4.05e+00  |    2.08e-21     |        24       \n",
      "       56     | 2.17e-04  |  1.05e-03   |  2.71e-03   |  1.05e-01  |    9.82e-21     |        25       \n",
      "       57     | 5.17e-05  |  1.12e-04   |  1.66e-04   |  6.79e-03  |    1.38e-17     |        30       \n",
      "       58     | 2.39e-05  |  3.42e-05   |  2.79e-05   |  1.39e-03  |    7.55e-12     |        7        \n",
      "       59     | 8.21e-06  |  1.32e-05   |  1.57e-05   |  6.21e-04  |    2.23e-16     |        25       \n",
      "       60     | 3.45e-06  |  5.01e-06   |  4.75e-06   |  2.02e-04  |    3.07e-20     |        28       \n",
      "       61     | 1.31e-06  |  1.97e-06   |  2.15e-06   |  8.54e-05  |    2.38e-17     |        24       \n",
      "       62     | 5.32e-07  |  7.77e-07   |  7.78e-07   |  3.15e-05  |    8.40e-19     |        24       \n",
      "       63     | 2.07e-07  |  3.07e-07   |  3.25e-07   |  1.30e-05  |    1.16e-19     |        25       \n",
      "       64     | 8.26e-08  |  1.21e-07   |  1.24e-07   |  5.00e-06  |    3.49e-20     |        24       \n",
      "\n",
      "===============================================================================================\n",
      "Computing refinement of solution\n",
      "    Initial guess relative error = 1.034111e-15\n",
      "-----------------------------------------------------------------------------------------------\n",
      "Computing CPD\n",
      "    Iteration | Rel error |  Step size  | Improvement | norm(grad) | Predicted error | # Inner iterations\n",
      "        1     | 9.48e-16  |  5.04e-17   |  9.48e-16   |  1.78e-14  |    4.21e-34     |        2        \n",
      "        2     | 8.02e-16  |  1.36e-16   |  1.46e-16   |  1.42e-14  |    1.46e-34     |        3        \n",
      "        3     | 7.00e-16  |  1.99e-16   |  1.02e-16   |  1.07e-14  |    3.68e-33     |        3        \n",
      "        4     | 7.58e-16  |  4.88e-16   |  5.73e-17   |  7.11e-15  |    6.75e-32     |        4        \n",
      "        5     | 6.42e-16  |  1.71e-16   |  1.16e-16   |  8.88e-15  |    4.32e-33     |        3        \n",
      "        6     | 6.66e-16  |  2.17e-16   |  2.46e-17   |  3.55e-15  |    1.68e-32     |        3        \n",
      "        7     | 7.00e-16  |  2.22e-16   |  3.35e-17   |  7.11e-15  |    1.81e-33     |        6        \n"
     ]
    },
    {
     "name": "stdout",
     "output_type": "stream",
     "text": [
      "        8     | 7.21e-16  |  2.49e-17   |  2.17e-17   |  3.55e-15  |    5.07e-37     |        5        \n",
      "        9     | 6.81e-16  |  1.49e-17   |  4.04e-17   |  3.55e-15  |    5.75e-44     |        8        \n",
      "       10     | 6.49e-16  |  2.21e-17   |  3.25e-17   |  3.55e-15  |    5.63e-38     |        6        \n",
      "       11     | 6.51e-16  |  1.27e-16   |  2.93e-18   |  3.55e-15  |    8.27e-33     |        4        \n",
      "       12     | 6.72e-16  |  6.81e-17   |  2.02e-17   |  1.42e-14  |    4.11e-35     |        4        \n",
      "       13     | 6.72e-16  |  5.52e-18   |  0.00e+00   |  7.11e-15  |    5.17e-43     |        8        \n",
      "       14     | 6.72e-16  |  2.76e-18   |  0.00e+00   |  7.11e-15  |    1.86e-46     |        8        \n",
      "       15     | 6.72e-16  |  0.00e+00   |  0.00e+00   |  7.11e-15  |    1.07e-40     |        4        \n",
      "       16     | 6.72e-16  |  0.00e+00   |  0.00e+00   |  7.11e-15  |    4.00e-53     |        10       \n",
      "       17     | 6.72e-16  |  0.00e+00   |  0.00e+00   |  7.11e-15  |    1.61e-50     |        8        \n",
      "       18     | 6.72e-16  |  0.00e+00   |  0.00e+00   |  7.11e-15  |    7.24e-48     |        6        \n",
      "       19     | 6.72e-16  |  0.00e+00   |  0.00e+00   |  7.11e-15  |    7.49e-58     |        11       \n",
      "       20     | 6.72e-16  |  0.00e+00   |  0.00e+00   |  7.11e-15  |    1.96e-47     |        5        \n",
      "       21     | 6.72e-16  |  0.00e+00   |  0.00e+00   |  7.11e-15  |    1.44e-63     |        13       \n",
      "       22     | 6.72e-16  |  0.00e+00   |  0.00e+00   |  7.11e-15  |    6.27e-66     |        14       \n",
      "       23     | 6.72e-16  |  0.00e+00   |  0.00e+00   |  7.11e-15  |    1.44e-74     |        18       \n",
      "       24     | 6.72e-16  |  0.00e+00   |  0.00e+00   |  7.11e-15  |    1.60e-75     |        18       \n",
      "       25     | 6.72e-16  |  0.00e+00   |  0.00e+00   |  7.11e-15  |    1.50e-54     |        6        \n",
      "       26     | 6.72e-16  |  0.00e+00   |  0.00e+00   |  7.11e-15  |    8.24e-63     |        10       \n",
      "       27     | 6.72e-16  |  0.00e+00   |  0.00e+00   |  7.11e-15  |    1.08e-57     |        7        \n",
      "       28     | 6.72e-16  |  0.00e+00   |  0.00e+00   |  7.11e-15  |    1.93e-75     |        16       \n",
      "       29     | 6.72e-16  |  0.00e+00   |  0.00e+00   |  7.11e-15  |    3.35e-71     |        13       \n",
      "       30     | 6.72e-16  |  0.00e+00   |  0.00e+00   |  7.11e-15  |    3.02e-81     |        18       \n",
      "       31     | 6.72e-16  |  0.00e+00   |  0.00e+00   |  7.11e-15  |    4.44e-77     |        15       \n",
      "       32     | 6.72e-16  |  0.00e+00   |  0.00e+00   |  7.11e-15  |    3.72e-83     |        18       \n",
      "       33     | 6.72e-16  |  0.00e+00   |  0.00e+00   |  7.11e-15  |    8.24e-66     |        8        \n",
      "       34     | 6.72e-16  |  0.00e+00   |  0.00e+00   |  7.11e-15  |    4.25e-89     |        20       \n",
      "       35     | 6.72e-16  |  0.00e+00   |  0.00e+00   |  7.11e-15  |    5.05e-99     |        25       \n",
      "       36     | 6.72e-16  |  0.00e+00   |  0.00e+00   |  7.11e-15  |    6.46e-70     |        9        \n",
      "       37     | 6.72e-16  |  0.00e+00   |  0.00e+00   |  7.11e-15  |    4.57e-97     |        23       \n",
      "       38     | 6.72e-16  |  0.00e+00   |  0.00e+00   |  7.11e-15  |    6.93e-102    |        25       \n",
      "       39     | 6.72e-16  |  0.00e+00   |  0.00e+00   |  7.11e-15  |    6.16e-86     |        16       \n",
      "       40     | 6.72e-16  |  0.00e+00   |  0.00e+00   |  7.11e-15  |    3.41e-89     |        17       \n",
      "       41     | 6.72e-16  |  0.00e+00   |  0.00e+00   |  7.11e-15  |    4.08e-97     |        21       \n",
      "       42     | 6.72e-16  |  0.00e+00   |  0.00e+00   |  7.11e-15  |    1.32e-83     |        13       \n",
      "       43     | 6.72e-16  |  0.00e+00   |  0.00e+00   |  7.11e-15  |    1.57e-88     |        15       \n",
      "       44     | 6.72e-16  |  0.00e+00   |  0.00e+00   |  7.11e-15  |    1.04e-81     |        11       \n",
      "       45     | 6.72e-16  |  0.00e+00   |  0.00e+00   |  7.11e-15  |    1.45e-108    |        25       \n",
      "       46     | 6.72e-16  |  0.00e+00   |  0.00e+00   |  7.11e-15  |    2.11e-117    |        29       \n",
      "       47     | 6.72e-16  |  0.00e+00   |  0.00e+00   |  7.11e-15  |    1.31e-106    |        23       \n",
      "       48     | 6.72e-16  |  0.00e+00   |  0.00e+00   |  7.11e-15  |    1.72e-126    |        33       \n",
      "       49     | 6.72e-16  |  0.00e+00   |  0.00e+00   |  7.11e-15  |    3.53e-88     |        12       \n",
      "       50     | 6.72e-16  |  0.00e+00   |  0.00e+00   |  7.11e-15  |    2.09e-78     |        6        \n",
      "       51     | 6.72e-16  |  0.00e+00   |  0.00e+00   |  7.11e-15  |    2.32e-79     |        6        \n",
      "       52     | 6.72e-16  |  0.00e+00   |  0.00e+00   |  7.11e-15  |    3.49e-85     |        9        \n",
      "       53     | 6.72e-16  |  0.00e+00   |  0.00e+00   |  7.11e-15  |    2.92e-131    |        33       \n",
      "       54     | 6.72e-16  |  0.00e+00   |  0.00e+00   |  7.11e-15  |    2.99e-100    |        16       \n",
      "       55     | 6.72e-16  |  0.00e+00   |  0.00e+00   |  7.11e-15  |    8.37e-87     |        8        \n",
      "       56     | 6.72e-16  |  0.00e+00   |  0.00e+00   |  7.11e-15  |    1.98e-111    |        21       \n",
      "       57     | 6.72e-16  |  0.00e+00   |  0.00e+00   |  7.11e-15  |    2.59e-142    |        37       \n",
      "       58     | 6.72e-16  |  0.00e+00   |  0.00e+00   |  7.11e-15  |    7.60e-116    |        22       \n",
      "       59     | 6.72e-16  |  0.00e+00   |  0.00e+00   |  7.11e-15  |    3.20e-144    |        37       \n",
      "       60     | 6.72e-16  |  0.00e+00   |  0.00e+00   |  7.11e-15  |    1.74e-147    |        38       \n",
      "       61     | 6.72e-16  |  0.00e+00   |  0.00e+00   |  7.11e-15  |    1.25e-99     |        12       \n",
      "       62     | 6.72e-16  |  0.00e+00   |  0.00e+00   |  7.11e-15  |    7.57e-146    |        36       \n",
      "       63     | 6.72e-16  |  0.00e+00   |  0.00e+00   |  7.11e-15  |    1.29e-107    |        15       \n",
      "       64     | 6.72e-16  |  0.00e+00   |  0.00e+00   |  7.11e-15  |    4.28e-112    |        17       \n",
      "===============================================================================================\n",
      "Final results\n",
      "    Number of steps = 128\n",
      "    Relative error = 6.716783760113183e-16\n",
      "    Accuracy =  100.0 %\n"
     ]
    }
   ],
   "source": [
    "# Compute the CPD of T with refinement.\n",
    "options.display = 3\n",
    "options.initialization = 'random'\n",
    "options.refine = True\n",
    "factors, output = tfx.cpd(T, R, options)"
   ]
  },
  {
   "cell_type": "markdown",
   "metadata": {},
   "source": [
    "# Damping parameter\n",
    "\n",
    "In the previous section we mentioned that, at each iteration, the program solves a minimization problem. This minimization is of the form\n",
    "\n",
    "$$\\min_x \\| Jx - b\\|,$$\n",
    "where $J$ is a tall matrix (the Jacobian matrix of the function of the residuals) and $x, b$ are vectors. There are two problems here: $J$ has too many rows and is not of full rank. In fact, the number of rows of the matrix brings the curse of dimensionality to the problem. One way to avoid this is to consider solving the normal equations\n",
    "\n",
    "$$J^T J x = J^Tb.$$\n",
    "\n",
    "Now the matrix has a reasonable size. To solve the problem of lack of full rank we introduce regularization, thus obtaining the new set of equations\n",
    "\n",
    "$$(J^T J + \\mu D) x = J^Tb$$\n",
    "where $\\mu > 0$ is the damping parameter and $D$ is a diagonal matrix. At each iteration the damping parameter is updated following a certain rule, and the user doesn't have influence over this. On the other hand, the user can choose the initial damping parameter factor. More precisely, the first damping parameter is $\\mu = \\tau \\cdot E[T]$, where $\\tau$ is the damping parameter factor and $E[T]$ is the mean of the values of $T$ (if there is compression, $S$ is used instead of $T$). The default value we use is $\\tau = 1$, but the user can change it with the parameter $\\verb|init| \\_ \\verb|damp|$. Experience shows that this value has little influence on the overall process, but sometimes it has a noticeable influence, so be aware of that. Finally, we remark that it is possible to pass the parameter $\\verb|init| \\_ \\verb|damp|$ as a list of values, such that $\\verb|init| \\_ \\verb|damp|[k]$ will be the damping parameter used at $k$-th iteration.   "
   ]
  },
  {
   "cell_type": "markdown",
   "metadata": {},
   "source": [
    "# Symmetric tensors\n",
    "\n",
    "If one want to work with symmetric tensors, just set $\\verb|symm|$ to True. With this option activated the initialization and all iterations of the dGN function will be done with symmetric tensors. At each iteration the approximated CPD is given by a triplet $X, Y, Z$. The next step is to make the assignements\n",
    "\n",
    "$$X \\leftarrow \\frac{X+Y+Z}{3}, \\quad Y \\leftarrow X, \\quad Z \\leftarrow X.$$\n",
    "\n",
    "If the objective tensor is really symmetric, then this procedure converges. Otherwise it can diverge or become unstable."
   ]
  },
  {
   "cell_type": "markdown",
   "metadata": {},
   "source": [
    "# Bad steps\n",
    "\n",
    "It can happen that the step computed with the damped Gauss-Newton method increase the error instead of decreasing it. Depending on the size of this increase, the program let it happen. Since the problem we are dealing is nonlinear, sometimes it may be necessary to allow these steps in order to get better steps after. However there is a limit to this, if the new error is $10^{20}$ times bigger then the previous error, it has a big chance this is a ver bad step and we should discard it.\n",
    "\n",
    "Let $\\varepsilon$ be the relative error at some iteration and $\\varepsilon_{new}$ be the next error. Before accepting the step associated to this error, the program verifies if it satisfies the condition \n",
    "$$\\varepsilon_{new} \\leq \\verb|tol| \\_ \\verb|jump| \\cdot \\varepsilon.$$\n",
    "If this condition is not met, the step is discarded and the [dogleg method](https://optimization.mccormick.northwestern.edu/index.php/Trust-region_methods#Dogleg_Method) is used to compute the next step. Default is $\\verb|tol| \\_ \\verb|jump| = 10$."
   ]
  }
 ],
 "metadata": {
  "kernelspec": {
   "display_name": "Python 3 (ipykernel)",
   "language": "python",
   "name": "python3"
  },
  "language_info": {
   "codemirror_mode": {
    "name": "ipython",
    "version": 3
   },
   "file_extension": ".py",
   "mimetype": "text/x-python",
   "name": "python",
   "nbconvert_exporter": "python",
   "pygments_lexer": "ipython3",
   "version": "3.10.4"
  }
 },
 "nbformat": 4,
 "nbformat_minor": 2
}
